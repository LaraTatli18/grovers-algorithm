{
 "cells": [
  {
   "cell_type": "code",
   "id": "initial_id",
   "metadata": {
    "collapsed": true,
    "ExecuteTime": {
     "end_time": "2024-08-20T10:50:12.602336Z",
     "start_time": "2024-08-20T10:50:11.051508Z"
    }
   },
   "source": [
    "!pip install bluequbit\n",
    "import bluequbit\n",
    "from qiskit import QuantumCircuit"
   ],
   "outputs": [
    {
     "name": "stdout",
     "output_type": "stream",
     "text": [
      "Requirement already satisfied: bluequbit in ./.venv/lib/python3.12/site-packages (0.8.3b1)\r\n",
      "Requirement already satisfied: requests~=2.28 in ./.venv/lib/python3.12/site-packages (from bluequbit) (2.32.3)\r\n",
      "Requirement already satisfied: python-dateutil~=2.8 in ./.venv/lib/python3.12/site-packages (from bluequbit) (2.9.0.post0)\r\n",
      "Requirement already satisfied: numpy~=1.21 in ./.venv/lib/python3.12/site-packages (from bluequbit) (1.26.4)\r\n",
      "Requirement already satisfied: packaging in ./.venv/lib/python3.12/site-packages (from bluequbit) (24.1)\r\n",
      "Requirement already satisfied: six>=1.5 in ./.venv/lib/python3.12/site-packages (from python-dateutil~=2.8->bluequbit) (1.16.0)\r\n",
      "Requirement already satisfied: charset-normalizer<4,>=2 in ./.venv/lib/python3.12/site-packages (from requests~=2.28->bluequbit) (3.3.2)\r\n",
      "Requirement already satisfied: idna<4,>=2.5 in ./.venv/lib/python3.12/site-packages (from requests~=2.28->bluequbit) (3.7)\r\n",
      "Requirement already satisfied: urllib3<3,>=1.21.1 in ./.venv/lib/python3.12/site-packages (from requests~=2.28->bluequbit) (2.2.2)\r\n",
      "Requirement already satisfied: certifi>=2017.4.17 in ./.venv/lib/python3.12/site-packages (from requests~=2.28->bluequbit) (2024.7.4)\r\n"
     ]
    }
   ],
   "execution_count": 1
  },
  {
   "metadata": {
    "ExecuteTime": {
     "end_time": "2024-08-20T10:50:12.637864Z",
     "start_time": "2024-08-20T10:50:12.605218Z"
    }
   },
   "cell_type": "code",
   "source": [
    "adder = QuantumCircuit(13, name='adder')\n",
    "\n",
    "adder.cx(2,11)\n",
    "adder.cx(5,11)\n",
    "adder.ccx(2,5,6)\n",
    "\n",
    "adder.barrier()\n",
    "\n",
    "adder.cx(1,10)\n",
    "adder.cx(4,10)\n",
    "adder.cx(6,10)\n",
    "adder.ccx(1,4,7)\n",
    "adder.ccx(1,6,7)\n",
    "adder.ccx(4,6,7)\n",
    "\n",
    "adder.barrier()\n",
    "\n",
    "adder.cx(0,9)\n",
    "adder.cx(3,9)\n",
    "adder.cx(7,9)\n",
    "\n",
    "adder.ccx(0,3,8)\n",
    "adder.ccx(0,7,8)\n",
    "adder.ccx(3,7,8)\n",
    "\n",
    "\n",
    "adder.draw(justify='none')"
   ],
   "id": "57e154cca5b60f39",
   "outputs": [
    {
     "data": {
      "text/plain": [
       "                      ░                                ░                     »\n",
       " q_0: ────────────────░────────────────────────────────░───■─────────■───────»\n",
       "                      ░                                ░   │         │       »\n",
       " q_1: ────────────────░───■─────────■─────────■────────░───┼─────────┼───────»\n",
       "                      ░   │         │         │        ░   │         │       »\n",
       " q_2: ──■─────────■───░───┼─────────┼─────────┼────────░───┼─────────┼───────»\n",
       "        │         │   ░   │         │         │        ░   │         │       »\n",
       " q_3: ──┼─────────┼───░───┼─────────┼─────────┼────────░───┼────■────■───────»\n",
       "        │         │   ░   │         │         │        ░   │    │    │       »\n",
       " q_4: ──┼─────────┼───░───┼────■────■─────────┼────■───░───┼────┼────┼───────»\n",
       "        │         │   ░   │    │    │         │    │   ░   │    │    │       »\n",
       " q_5: ──┼────■────■───░───┼────┼────┼─────────┼────┼───░───┼────┼────┼───────»\n",
       "        │    │  ┌─┴─┐ ░   │    │    │         │    │   ░   │    │    │       »\n",
       " q_6: ──┼────┼──┤ X ├─░───┼────┼────┼────■────■────■───░───┼────┼────┼───────»\n",
       "        │    │  └───┘ ░   │    │  ┌─┴─┐  │  ┌─┴─┐┌─┴─┐ ░   │    │    │       »\n",
       " q_7: ──┼────┼────────░───┼────┼──┤ X ├──┼──┤ X ├┤ X ├─░───┼────┼────┼────■──»\n",
       "        │    │        ░   │    │  └───┘  │  └───┘└───┘ ░   │    │  ┌─┴─┐  │  »\n",
       " q_8: ──┼────┼────────░───┼────┼─────────┼─────────────░───┼────┼──┤ X ├──┼──»\n",
       "        │    │        ░   │    │         │             ░ ┌─┴─┐┌─┴─┐└───┘┌─┴─┐»\n",
       " q_9: ──┼────┼────────░───┼────┼─────────┼─────────────░─┤ X ├┤ X ├─────┤ X ├»\n",
       "        │    │        ░ ┌─┴─┐┌─┴─┐     ┌─┴─┐           ░ └───┘└───┘     └───┘»\n",
       "q_10: ──┼────┼────────░─┤ X ├┤ X ├─────┤ X ├───────────░─────────────────────»\n",
       "      ┌─┴─┐┌─┴─┐      ░ └───┘└───┘     └───┘           ░                     »\n",
       "q_11: ┤ X ├┤ X ├──────░────────────────────────────────░─────────────────────»\n",
       "      └───┘└───┘      ░                                ░                     »\n",
       "q_12: ────────────────░────────────────────────────────░─────────────────────»\n",
       "                      ░                                ░                     »\n",
       "«                \n",
       "« q_0: ──■───────\n",
       "«        │       \n",
       "« q_1: ──┼───────\n",
       "«        │       \n",
       "« q_2: ──┼───────\n",
       "«        │       \n",
       "« q_3: ──┼────■──\n",
       "«        │    │  \n",
       "« q_4: ──┼────┼──\n",
       "«        │    │  \n",
       "« q_5: ──┼────┼──\n",
       "«        │    │  \n",
       "« q_6: ──┼────┼──\n",
       "«        │    │  \n",
       "« q_7: ──■────■──\n",
       "«      ┌─┴─┐┌─┴─┐\n",
       "« q_8: ┤ X ├┤ X ├\n",
       "«      └───┘└───┘\n",
       "« q_9: ──────────\n",
       "«                \n",
       "«q_10: ──────────\n",
       "«                \n",
       "«q_11: ──────────\n",
       "«                \n",
       "«q_12: ──────────\n",
       "«                "
      ],
      "text/html": [
       "<pre style=\"word-wrap: normal;white-space: pre;background: #fff0;line-height: 1.1;font-family: &quot;Courier New&quot;,Courier,monospace\">                      ░                                ░                     »\n",
       " q_0: ────────────────░────────────────────────────────░───■─────────■───────»\n",
       "                      ░                                ░   │         │       »\n",
       " q_1: ────────────────░───■─────────■─────────■────────░───┼─────────┼───────»\n",
       "                      ░   │         │         │        ░   │         │       »\n",
       " q_2: ──■─────────■───░───┼─────────┼─────────┼────────░───┼─────────┼───────»\n",
       "        │         │   ░   │         │         │        ░   │         │       »\n",
       " q_3: ──┼─────────┼───░───┼─────────┼─────────┼────────░───┼────■────■───────»\n",
       "        │         │   ░   │         │         │        ░   │    │    │       »\n",
       " q_4: ──┼─────────┼───░───┼────■────■─────────┼────■───░───┼────┼────┼───────»\n",
       "        │         │   ░   │    │    │         │    │   ░   │    │    │       »\n",
       " q_5: ──┼────■────■───░───┼────┼────┼─────────┼────┼───░───┼────┼────┼───────»\n",
       "        │    │  ┌─┴─┐ ░   │    │    │         │    │   ░   │    │    │       »\n",
       " q_6: ──┼────┼──┤ X ├─░───┼────┼────┼────■────■────■───░───┼────┼────┼───────»\n",
       "        │    │  └───┘ ░   │    │  ┌─┴─┐  │  ┌─┴─┐┌─┴─┐ ░   │    │    │       »\n",
       " q_7: ──┼────┼────────░───┼────┼──┤ X ├──┼──┤ X ├┤ X ├─░───┼────┼────┼────■──»\n",
       "        │    │        ░   │    │  └───┘  │  └───┘└───┘ ░   │    │  ┌─┴─┐  │  »\n",
       " q_8: ──┼────┼────────░───┼────┼─────────┼─────────────░───┼────┼──┤ X ├──┼──»\n",
       "        │    │        ░   │    │         │             ░ ┌─┴─┐┌─┴─┐└───┘┌─┴─┐»\n",
       " q_9: ──┼────┼────────░───┼────┼─────────┼─────────────░─┤ X ├┤ X ├─────┤ X ├»\n",
       "        │    │        ░ ┌─┴─┐┌─┴─┐     ┌─┴─┐           ░ └───┘└───┘     └───┘»\n",
       "q_10: ──┼────┼────────░─┤ X ├┤ X ├─────┤ X ├───────────░─────────────────────»\n",
       "      ┌─┴─┐┌─┴─┐      ░ └───┘└───┘     └───┘           ░                     »\n",
       "q_11: ┤ X ├┤ X ├──────░────────────────────────────────░─────────────────────»\n",
       "      └───┘└───┘      ░                                ░                     »\n",
       "q_12: ────────────────░────────────────────────────────░─────────────────────»\n",
       "                      ░                                ░                     »\n",
       "«                \n",
       "« q_0: ──■───────\n",
       "«        │       \n",
       "« q_1: ──┼───────\n",
       "«        │       \n",
       "« q_2: ──┼───────\n",
       "«        │       \n",
       "« q_3: ──┼────■──\n",
       "«        │    │  \n",
       "« q_4: ──┼────┼──\n",
       "«        │    │  \n",
       "« q_5: ──┼────┼──\n",
       "«        │    │  \n",
       "« q_6: ──┼────┼──\n",
       "«        │    │  \n",
       "« q_7: ──■────■──\n",
       "«      ┌─┴─┐┌─┴─┐\n",
       "« q_8: ┤ X ├┤ X ├\n",
       "«      └───┘└───┘\n",
       "« q_9: ──────────\n",
       "«                \n",
       "«q_10: ──────────\n",
       "«                \n",
       "«q_11: ──────────\n",
       "«                \n",
       "«q_12: ──────────\n",
       "«                </pre>"
      ]
     },
     "execution_count": 2,
     "metadata": {},
     "output_type": "execute_result"
    }
   ],
   "execution_count": 2
  },
  {
   "metadata": {
    "ExecuteTime": {
     "end_time": "2024-08-20T10:50:12.642213Z",
     "start_time": "2024-08-20T10:50:12.638672Z"
    }
   },
   "cell_type": "code",
   "source": [
    "adderr = QuantumCircuit(13, name='adder_reverse')\n",
    "\n",
    "adderr.ccx(3,7,8)\n",
    "adderr.ccx(0,7,8)\n",
    "adderr.ccx(0,3,8)\n",
    "adderr.cx(7,9)\n",
    "adderr.cx(3,9)\n",
    "adderr.cx(0,9)\n",
    "\n",
    "adderr.ccx(4,6,7)\n",
    "adderr.ccx(1,6,7)\n",
    "adderr.ccx(1,4,7)\n",
    "adderr.cx(6,10)\n",
    "adderr.cx(4,10)\n",
    "adderr.cx(1,10)\n",
    "\n",
    "adderr.ccx(2,5,6)\n",
    "adderr.cx(5,11)\n",
    "adderr.cx(2,11)\n",
    "\n",
    "#adderr.draw()"
   ],
   "id": "f8b270b5d22619c8",
   "outputs": [
    {
     "data": {
      "text/plain": [
       "<qiskit.circuit.instructionset.InstructionSet at 0x12ae91000>"
      ]
     },
     "execution_count": 3,
     "metadata": {},
     "output_type": "execute_result"
    }
   ],
   "execution_count": 3
  },
  {
   "metadata": {
    "ExecuteTime": {
     "end_time": "2024-08-20T10:50:12.648411Z",
     "start_time": "2024-08-20T10:50:12.643107Z"
    }
   },
   "cell_type": "code",
   "source": [
    "oracle = QuantumCircuit(13, name='oracle')\n",
    "\n",
    "oracle.x(8)\n",
    "#oracle.x(9)\n",
    "oracle.x(10)\n",
    "#oracle.x(11)\n",
    "\n",
    "oracle.mcx([8,9,10,11],12)\n",
    "\n",
    "oracle.x(8)\n",
    "#oracle.x(9)\n",
    "oracle.x(10)\n",
    "#oracle.x(11)\n",
    "\n",
    "\n",
    "oracle.draw()"
   ],
   "id": "b4ccdfe09a6fad18",
   "outputs": [
    {
     "data": {
      "text/plain": [
       "                     \n",
       " q_0: ───────────────\n",
       "                     \n",
       " q_1: ───────────────\n",
       "                     \n",
       " q_2: ───────────────\n",
       "                     \n",
       " q_3: ───────────────\n",
       "                     \n",
       " q_4: ───────────────\n",
       "                     \n",
       " q_5: ───────────────\n",
       "                     \n",
       " q_6: ───────────────\n",
       "                     \n",
       " q_7: ───────────────\n",
       "      ┌───┐     ┌───┐\n",
       " q_8: ┤ X ├──■──┤ X ├\n",
       "      └───┘  │  └───┘\n",
       " q_9: ───────■───────\n",
       "      ┌───┐  │  ┌───┐\n",
       "q_10: ┤ X ├──■──┤ X ├\n",
       "      └───┘  │  └───┘\n",
       "q_11: ───────■───────\n",
       "           ┌─┴─┐     \n",
       "q_12: ─────┤ X ├─────\n",
       "           └───┘     "
      ],
      "text/html": [
       "<pre style=\"word-wrap: normal;white-space: pre;background: #fff0;line-height: 1.1;font-family: &quot;Courier New&quot;,Courier,monospace\">                     \n",
       " q_0: ───────────────\n",
       "                     \n",
       " q_1: ───────────────\n",
       "                     \n",
       " q_2: ───────────────\n",
       "                     \n",
       " q_3: ───────────────\n",
       "                     \n",
       " q_4: ───────────────\n",
       "                     \n",
       " q_5: ───────────────\n",
       "                     \n",
       " q_6: ───────────────\n",
       "                     \n",
       " q_7: ───────────────\n",
       "      ┌───┐     ┌───┐\n",
       " q_8: ┤ X ├──■──┤ X ├\n",
       "      └───┘  │  └───┘\n",
       " q_9: ───────■───────\n",
       "      ┌───┐  │  ┌───┐\n",
       "q_10: ┤ X ├──■──┤ X ├\n",
       "      └───┘  │  └───┘\n",
       "q_11: ───────■───────\n",
       "           ┌─┴─┐     \n",
       "q_12: ─────┤ X ├─────\n",
       "           └───┘     </pre>"
      ]
     },
     "execution_count": 4,
     "metadata": {},
     "output_type": "execute_result"
    }
   ],
   "execution_count": 4
  },
  {
   "metadata": {
    "ExecuteTime": {
     "end_time": "2024-08-20T12:02:15.004135Z",
     "start_time": "2024-08-20T12:02:14.985443Z"
    }
   },
   "cell_type": "code",
   "source": [
    "diffuser = QuantumCircuit(13, name='diffuser')\n",
    "\n",
    "diffuser.h([0,1,2,3,4,5])\n",
    "diffuser.x([0,1,2,3,4,5])\n",
    "    \n",
    "diffuser.mcx([0,1,2,3,4,5], 12)\n",
    "\n",
    "diffuser.x([0,1,2,3,4,5])   \n",
    "diffuser.h([0,1,2,3,4,5])\n",
    "\n",
    "\n",
    "diffuser.draw()"
   ],
   "id": "ba62a159835c08e2",
   "outputs": [
    {
     "data": {
      "text/plain": [
       "      ┌───┐┌───┐     ┌───┐┌───┐\n",
       " q_0: ┤ H ├┤ X ├──■──┤ X ├┤ H ├\n",
       "      ├───┤├───┤  │  ├───┤├───┤\n",
       " q_1: ┤ H ├┤ X ├──■──┤ X ├┤ H ├\n",
       "      ├───┤├───┤  │  ├───┤├───┤\n",
       " q_2: ┤ H ├┤ X ├──■──┤ X ├┤ H ├\n",
       "      ├───┤├───┤  │  ├───┤├───┤\n",
       " q_3: ┤ H ├┤ X ├──■──┤ X ├┤ H ├\n",
       "      ├───┤├───┤  │  ├───┤├───┤\n",
       " q_4: ┤ H ├┤ X ├──■──┤ X ├┤ H ├\n",
       "      ├───┤├───┤  │  ├───┤├───┤\n",
       " q_5: ┤ H ├┤ X ├──■──┤ X ├┤ H ├\n",
       "      └───┘└───┘  │  └───┘└───┘\n",
       " q_6: ────────────┼────────────\n",
       "                  │            \n",
       " q_7: ────────────┼────────────\n",
       "                  │            \n",
       " q_8: ────────────┼────────────\n",
       "                  │            \n",
       " q_9: ────────────┼────────────\n",
       "                  │            \n",
       "q_10: ────────────┼────────────\n",
       "                  │            \n",
       "q_11: ────────────┼────────────\n",
       "                ┌─┴─┐          \n",
       "q_12: ──────────┤ X ├──────────\n",
       "                └───┘          "
      ],
      "text/html": [
       "<pre style=\"word-wrap: normal;white-space: pre;background: #fff0;line-height: 1.1;font-family: &quot;Courier New&quot;,Courier,monospace\">      ┌───┐┌───┐     ┌───┐┌───┐\n",
       " q_0: ┤ H ├┤ X ├──■──┤ X ├┤ H ├\n",
       "      ├───┤├───┤  │  ├───┤├───┤\n",
       " q_1: ┤ H ├┤ X ├──■──┤ X ├┤ H ├\n",
       "      ├───┤├───┤  │  ├───┤├───┤\n",
       " q_2: ┤ H ├┤ X ├──■──┤ X ├┤ H ├\n",
       "      ├───┤├───┤  │  ├───┤├───┤\n",
       " q_3: ┤ H ├┤ X ├──■──┤ X ├┤ H ├\n",
       "      ├───┤├───┤  │  ├───┤├───┤\n",
       " q_4: ┤ H ├┤ X ├──■──┤ X ├┤ H ├\n",
       "      ├───┤├───┤  │  ├───┤├───┤\n",
       " q_5: ┤ H ├┤ X ├──■──┤ X ├┤ H ├\n",
       "      └───┘└───┘  │  └───┘└───┘\n",
       " q_6: ────────────┼────────────\n",
       "                  │            \n",
       " q_7: ────────────┼────────────\n",
       "                  │            \n",
       " q_8: ────────────┼────────────\n",
       "                  │            \n",
       " q_9: ────────────┼────────────\n",
       "                  │            \n",
       "q_10: ────────────┼────────────\n",
       "                  │            \n",
       "q_11: ────────────┼────────────\n",
       "                ┌─┴─┐          \n",
       "q_12: ──────────┤ X ├──────────\n",
       "                └───┘          </pre>"
      ]
     },
     "execution_count": 13,
     "metadata": {},
     "output_type": "execute_result"
    }
   ],
   "execution_count": 13
  },
  {
   "metadata": {
    "ExecuteTime": {
     "end_time": "2024-08-20T11:25:00.414317Z",
     "start_time": "2024-08-20T11:25:00.403308Z"
    }
   },
   "cell_type": "code",
   "source": [
    "from qiskit import QuantumRegister, ClassicalRegister\n",
    "\n",
    "qr = QuantumRegister(13, 'q')\n",
    "cr = ClassicalRegister(6, 'c')\n",
    "grovercircuit = QuantumCircuit(qr, cr)\n",
    "\n",
    "iterations = 1\n",
    "\n",
    "grovercircuit.x(12)\n",
    "grovercircuit.h(12)\n",
    "\n",
    "grovercircuit.h(0)\n",
    "grovercircuit.h(1)\n",
    "grovercircuit.h(2)\n",
    "grovercircuit.h(3)\n",
    "grovercircuit.h(4)\n",
    "grovercircuit.h(5)\n",
    "\n",
    "grovercircuit.barrier()\n",
    "\n",
    "for i in range(iterations):\n",
    "    grovercircuit.append(adder, [0,1,2,3,4,5,6,7,8,9,10,11,12])\n",
    "    grovercircuit.append(oracle, [0,1,2,3,4,5,6,7,8,9,10,11,12])\n",
    "    grovercircuit.append(adderr, [0,1,2,3,4,5,6,7,8,9,10,11,12])\n",
    "    grovercircuit.append(diffuser, [0,1,2,3,4,5,6,7,8,9,10,11,12])\n",
    "\n",
    "\n",
    "grovercircuit.measure([qr[0], qr[1], qr[2], qr[3], qr[4], qr[5]], [cr[0], cr[1], cr[2], cr[3], cr[4], cr[5]])\n",
    "\n",
    "grovercircuit.draw()"
   ],
   "id": "db77ecb03880b889",
   "outputs": [
    {
     "data": {
      "text/plain": [
       "      ┌───┐      ░ ┌─────────┐┌──────────┐┌─────────────────┐┌────────────┐┌─┐»\n",
       " q_0: ┤ H ├──────░─┤0        ├┤0         ├┤0                ├┤0           ├┤M├»\n",
       "      ├───┤      ░ │         ││          ││                 ││            │└╥┘»\n",
       " q_1: ┤ H ├──────░─┤1        ├┤1         ├┤1                ├┤1           ├─╫─»\n",
       "      ├───┤      ░ │         ││          ││                 ││            │ ║ »\n",
       " q_2: ┤ H ├──────░─┤2        ├┤2         ├┤2                ├┤2           ├─╫─»\n",
       "      ├───┤      ░ │         ││          ││                 ││            │ ║ »\n",
       " q_3: ┤ H ├──────░─┤3        ├┤3         ├┤3                ├┤3           ├─╫─»\n",
       "      ├───┤      ░ │         ││          ││                 ││            │ ║ »\n",
       " q_4: ┤ H ├──────░─┤4        ├┤4         ├┤4                ├┤4           ├─╫─»\n",
       "      ├───┤      ░ │         ││          ││                 ││            │ ║ »\n",
       " q_5: ┤ H ├──────░─┤5        ├┤5         ├┤5                ├┤5           ├─╫─»\n",
       "      └───┘      ░ │         ││          ││                 ││            │ ║ »\n",
       " q_6: ───────────░─┤6  adder ├┤6  oracle ├┤6  adder_reverse ├┤6  diffuser ├─╫─»\n",
       "                 ░ │         ││          ││                 ││            │ ║ »\n",
       " q_7: ───────────░─┤7        ├┤7         ├┤7                ├┤7           ├─╫─»\n",
       "                 ░ │         ││          ││                 ││            │ ║ »\n",
       " q_8: ───────────░─┤8        ├┤8         ├┤8                ├┤8           ├─╫─»\n",
       "                 ░ │         ││          ││                 ││            │ ║ »\n",
       " q_9: ───────────░─┤9        ├┤9         ├┤9                ├┤9           ├─╫─»\n",
       "                 ░ │         ││          ││                 ││            │ ║ »\n",
       "q_10: ───────────░─┤10       ├┤10        ├┤10               ├┤10          ├─╫─»\n",
       "                 ░ │         ││          ││                 ││            │ ║ »\n",
       "q_11: ───────────░─┤11       ├┤11        ├┤11               ├┤11          ├─╫─»\n",
       "      ┌───┐┌───┐ ░ │         ││          ││                 ││            │ ║ »\n",
       "q_12: ┤ X ├┤ H ├─░─┤12       ├┤12        ├┤12               ├┤12          ├─╫─»\n",
       "      └───┘└───┘ ░ └─────────┘└──────────┘└─────────────────┘└────────────┘ ║ »\n",
       " c: 6/══════════════════════════════════════════════════════════════════════╩═»\n",
       "                                                                            0 »\n",
       "«                     \n",
       "« q_0: ───────────────\n",
       "«      ┌─┐            \n",
       "« q_1: ┤M├────────────\n",
       "«      └╥┘┌─┐         \n",
       "« q_2: ─╫─┤M├─────────\n",
       "«       ║ └╥┘┌─┐      \n",
       "« q_3: ─╫──╫─┤M├──────\n",
       "«       ║  ║ └╥┘┌─┐   \n",
       "« q_4: ─╫──╫──╫─┤M├───\n",
       "«       ║  ║  ║ └╥┘┌─┐\n",
       "« q_5: ─╫──╫──╫──╫─┤M├\n",
       "«       ║  ║  ║  ║ └╥┘\n",
       "« q_6: ─╫──╫──╫──╫──╫─\n",
       "«       ║  ║  ║  ║  ║ \n",
       "« q_7: ─╫──╫──╫──╫──╫─\n",
       "«       ║  ║  ║  ║  ║ \n",
       "« q_8: ─╫──╫──╫──╫──╫─\n",
       "«       ║  ║  ║  ║  ║ \n",
       "« q_9: ─╫──╫──╫──╫──╫─\n",
       "«       ║  ║  ║  ║  ║ \n",
       "«q_10: ─╫──╫──╫──╫──╫─\n",
       "«       ║  ║  ║  ║  ║ \n",
       "«q_11: ─╫──╫──╫──╫──╫─\n",
       "«       ║  ║  ║  ║  ║ \n",
       "«q_12: ─╫──╫──╫──╫──╫─\n",
       "«       ║  ║  ║  ║  ║ \n",
       "« c: 6/═╩══╩══╩══╩══╩═\n",
       "«       1  2  3  4  5 "
      ],
      "text/html": [
       "<pre style=\"word-wrap: normal;white-space: pre;background: #fff0;line-height: 1.1;font-family: &quot;Courier New&quot;,Courier,monospace\">      ┌───┐      ░ ┌─────────┐┌──────────┐┌─────────────────┐┌────────────┐┌─┐»\n",
       " q_0: ┤ H ├──────░─┤0        ├┤0         ├┤0                ├┤0           ├┤M├»\n",
       "      ├───┤      ░ │         ││          ││                 ││            │└╥┘»\n",
       " q_1: ┤ H ├──────░─┤1        ├┤1         ├┤1                ├┤1           ├─╫─»\n",
       "      ├───┤      ░ │         ││          ││                 ││            │ ║ »\n",
       " q_2: ┤ H ├──────░─┤2        ├┤2         ├┤2                ├┤2           ├─╫─»\n",
       "      ├───┤      ░ │         ││          ││                 ││            │ ║ »\n",
       " q_3: ┤ H ├──────░─┤3        ├┤3         ├┤3                ├┤3           ├─╫─»\n",
       "      ├───┤      ░ │         ││          ││                 ││            │ ║ »\n",
       " q_4: ┤ H ├──────░─┤4        ├┤4         ├┤4                ├┤4           ├─╫─»\n",
       "      ├───┤      ░ │         ││          ││                 ││            │ ║ »\n",
       " q_5: ┤ H ├──────░─┤5        ├┤5         ├┤5                ├┤5           ├─╫─»\n",
       "      └───┘      ░ │         ││          ││                 ││            │ ║ »\n",
       " q_6: ───────────░─┤6  adder ├┤6  oracle ├┤6  adder_reverse ├┤6  diffuser ├─╫─»\n",
       "                 ░ │         ││          ││                 ││            │ ║ »\n",
       " q_7: ───────────░─┤7        ├┤7         ├┤7                ├┤7           ├─╫─»\n",
       "                 ░ │         ││          ││                 ││            │ ║ »\n",
       " q_8: ───────────░─┤8        ├┤8         ├┤8                ├┤8           ├─╫─»\n",
       "                 ░ │         ││          ││                 ││            │ ║ »\n",
       " q_9: ───────────░─┤9        ├┤9         ├┤9                ├┤9           ├─╫─»\n",
       "                 ░ │         ││          ││                 ││            │ ║ »\n",
       "q_10: ───────────░─┤10       ├┤10        ├┤10               ├┤10          ├─╫─»\n",
       "                 ░ │         ││          ││                 ││            │ ║ »\n",
       "q_11: ───────────░─┤11       ├┤11        ├┤11               ├┤11          ├─╫─»\n",
       "      ┌───┐┌───┐ ░ │         ││          ││                 ││            │ ║ »\n",
       "q_12: ┤ X ├┤ H ├─░─┤12       ├┤12        ├┤12               ├┤12          ├─╫─»\n",
       "      └───┘└───┘ ░ └─────────┘└──────────┘└─────────────────┘└────────────┘ ║ »\n",
       " c: 6/══════════════════════════════════════════════════════════════════════╩═»\n",
       "                                                                            0 »\n",
       "«                     \n",
       "« q_0: ───────────────\n",
       "«      ┌─┐            \n",
       "« q_1: ┤M├────────────\n",
       "«      └╥┘┌─┐         \n",
       "« q_2: ─╫─┤M├─────────\n",
       "«       ║ └╥┘┌─┐      \n",
       "« q_3: ─╫──╫─┤M├──────\n",
       "«       ║  ║ └╥┘┌─┐   \n",
       "« q_4: ─╫──╫──╫─┤M├───\n",
       "«       ║  ║  ║ └╥┘┌─┐\n",
       "« q_5: ─╫──╫──╫──╫─┤M├\n",
       "«       ║  ║  ║  ║ └╥┘\n",
       "« q_6: ─╫──╫──╫──╫──╫─\n",
       "«       ║  ║  ║  ║  ║ \n",
       "« q_7: ─╫──╫──╫──╫──╫─\n",
       "«       ║  ║  ║  ║  ║ \n",
       "« q_8: ─╫──╫──╫──╫──╫─\n",
       "«       ║  ║  ║  ║  ║ \n",
       "« q_9: ─╫──╫──╫──╫──╫─\n",
       "«       ║  ║  ║  ║  ║ \n",
       "«q_10: ─╫──╫──╫──╫──╫─\n",
       "«       ║  ║  ║  ║  ║ \n",
       "«q_11: ─╫──╫──╫──╫──╫─\n",
       "«       ║  ║  ║  ║  ║ \n",
       "«q_12: ─╫──╫──╫──╫──╫─\n",
       "«       ║  ║  ║  ║  ║ \n",
       "« c: 6/═╩══╩══╩══╩══╩═\n",
       "«       1  2  3  4  5 </pre>"
      ]
     },
     "execution_count": 12,
     "metadata": {},
     "output_type": "execute_result"
    }
   ],
   "execution_count": 12
  },
  {
   "metadata": {
    "ExecuteTime": {
     "end_time": "2024-08-20T10:50:15.647060Z",
     "start_time": "2024-08-20T10:50:12.664518Z"
    }
   },
   "cell_type": "code",
   "source": [
    "bq = bluequbit.init(\"hcrcppPlrZRf012AUd7FYzTcXMV6ZZoL\")\n",
    "result = bq.run(grovercircuit) # device can also be 'cpu' or 'quantum'\n",
    "\n",
    "data = result.get_counts()\n",
    "print(data)"
   ],
   "id": "582aca84ff9faa51",
   "outputs": [
    {
     "name": "stderr",
     "output_type": "stream",
     "text": [
      "BQ-PYTHON-SDK - WARNING - Beta version 0.8.3b1 of BlueQubit Python SDK is being used.\n",
      "BQ-PYTHON-SDK - INFO - Submitted: Job ID: cUyE1htpn92vE9B3, device: cpu, run status: COMPLETED, created on: 2024-08-20 10:50:15 UTC, cost: $0.00, run time: 51 ms, queue time: 18 ms, num qubits: 13\n"
     ]
    },
    {
     "name": "stdout",
     "output_type": "stream",
     "text": [
      "{'000000': 0.007100165355950594, '000001': 0.007100160699337721, '000010': 0.007100170478224754, '000011': 0.0071001723408699036, '000100': 0.007100159768015146, '000101': 0.09803174436092377, '000110': 0.007100164424628019, '000111': 0.007100168149918318, '001000': 0.007100168615579605, '001001': 0.007100165355950594, '001010': 0.007100174203515053, '001011': 0.00710016954690218, '001100': 0.09803169220685959, '001101': 0.007100153714418411, '001110': 0.007100164424628019, '001111': 0.007100167218595743, '010000': 0.00710016256198287, '010001': 0.007100167218595743, '010010': 0.0071001662872731686, '010011': 0.007100164424628019, '010100': 0.007100168615579605, '010101': 0.007100173272192478, '010110': 0.09803171455860138, '010111': 0.007100171409547329, '011000': 0.007100168149918318, '011001': 0.007100170478224754, '011010': 0.007100163493305445, '011011': 0.007100158371031284, '011100': 0.007100173272192478, '011101': 0.007100168149918318, '011110': 0.007100151851773262, '011111': 0.007100168615579605, '100000': 0.0071001616306602955, '100001': 0.09803174436092377, '100010': 0.007100173272192478, '100011': 0.007100167218595743, '100100': 0.007100158371031284, '100101': 0.0071001662872731686, '100110': 0.0071001662872731686, '100111': 0.007100173272192478, '101000': 0.09803175181150436, '101001': 0.007100156508386135, '101010': 0.007100168615579605, '101011': 0.007100170478224754, '101100': 0.007100158836692572, '101101': 0.007100164424628019, '101110': 0.0071001662872731686, '101111': 0.0071001723408699036, '110000': 0.007100174203515053, '110001': 0.007100168149918318, '110010': 0.09803174436092377, '110011': 0.007100165355950594, '110100': 0.007100168149918318, '110101': 0.007100164424628019, '110110': 0.007100165355950594, '110111': 0.007100164424628019, '111000': 0.007100173272192478, '111001': 0.007100167218595743, '111010': 0.0071001616306602955, '111011': 0.007100165355950594, '111100': 0.0071001662872731686, '111101': 0.007100168149918318, '111110': 0.00710016256198287, '111111': 0.007100159768015146}\n"
     ]
    }
   ],
   "execution_count": 7
  },
  {
   "metadata": {
    "ExecuteTime": {
     "end_time": "2024-08-20T10:50:15.651816Z",
     "start_time": "2024-08-20T10:50:15.648368Z"
    }
   },
   "cell_type": "code",
   "source": [
    "import numpy as np\n",
    "# Suppose 'data' is an object you're plotting\n",
    "print(type(data))  # Check what type 'data' is\n",
    "print(isinstance(data, np.ndarray))  # Check if 'data' is a numpy array\n"
   ],
   "id": "a1eebe95387bb383",
   "outputs": [
    {
     "name": "stdout",
     "output_type": "stream",
     "text": [
      "<class 'dict'>\n",
      "False\n"
     ]
    }
   ],
   "execution_count": 8
  },
  {
   "metadata": {
    "ExecuteTime": {
     "end_time": "2024-08-20T12:53:52.151388Z",
     "start_time": "2024-08-20T12:53:51.576837Z"
    }
   },
   "cell_type": "code",
   "source": [
    "import matplotlib.pyplot as plt\n",
    "import numpy as np\n",
    "plt.rcParams.update({'font.size': 11.5})\n",
    "\n",
    "# Extract states and counts from the dictionary\n",
    "states = list(data.keys())\n",
    "counts = list(data.values())\n",
    "print(states)\n",
    "print(\"Number of possible combinations: \", len(states))\n",
    "\n",
    "quantumStates = []\n",
    "\n",
    "for state in states:\n",
    "    #new_state = '|' + state[::-1] + '>'\n",
    "    new_state = state[::-1]\n",
    "    quantumStates.append(new_state)\n",
    "\n",
    "print(quantumStates)\n",
    "    \n",
    "x = np.arange(len(quantumStates)) # the label locations\n",
    "width = 0.35 # the width of the bars\n",
    "\n",
    "\n",
    "plt.figure(figsize=(14, 7))  \n",
    "\n",
    "plt.bar(quantumStates, counts, color='blue')  \n",
    "\n",
    "plt.xlabel('Quantum States')  \n",
    "plt.ylabel('Probability Amplitude')  #\n",
    "plt.title('Histogram displaying Statevector Probability Amplitudes')  \n",
    "plt.xticks(rotation=90)\n",
    "pps = ax.bar(x - width/2, counts, width, label='population')\n",
    "for p in pps:\n",
    "   height = p.get_height()\n",
    "   ax.annotate('{}'.format(height),\n",
    "      xy=(p.get_x() + p.get_width() / 2, height),\n",
    "      xytext=(0, 3), # 3 points vertical offset\n",
    "      textcoords=\"offset points\",\n",
    "      ha='center', va='bottom')\n",
    "#plt.grid(axis='y', linestyle='--', alpha=0.7)  \n",
    "\n",
    "\n",
    "#plt.tight_layout()  \n",
    "plt.show()\n",
    "#plt.savefig('iterations=3.png')\n"
   ],
   "id": "7503dbe4e9c93637",
   "outputs": [
    {
     "name": "stdout",
     "output_type": "stream",
     "text": [
      "['000000', '000001', '000010', '000011', '000100', '000101', '000110', '000111', '001000', '001001', '001010', '001011', '001100', '001101', '001110', '001111', '010000', '010001', '010010', '010011', '010100', '010101', '010110', '010111', '011000', '011001', '011010', '011011', '011100', '011101', '011110', '011111', '100000', '100001', '100010', '100011', '100100', '100101', '100110', '100111', '101000', '101001', '101010', '101011', '101100', '101101', '101110', '101111', '110000', '110001', '110010', '110011', '110100', '110101', '110110', '110111', '111000', '111001', '111010', '111011', '111100', '111101', '111110', '111111']\n",
      "Number of possible combinations:  64\n",
      "['000000', '100000', '010000', '110000', '001000', '101000', '011000', '111000', '000100', '100100', '010100', '110100', '001100', '101100', '011100', '111100', '000010', '100010', '010010', '110010', '001010', '101010', '011010', '111010', '000110', '100110', '010110', '110110', '001110', '101110', '011110', '111110', '000001', '100001', '010001', '110001', '001001', '101001', '011001', '111001', '000101', '100101', '010101', '110101', '001101', '101101', '011101', '111101', '000011', '100011', '010011', '110011', '001011', '101011', '011011', '111011', '000111', '100111', '010111', '110111', '001111', '101111', '011111', '111111']\n"
     ]
    },
    {
     "ename": "NameError",
     "evalue": "name 'ax' is not defined",
     "output_type": "error",
     "traceback": [
      "\u001B[0;31m---------------------------------------------------------------------------\u001B[0m",
      "\u001B[0;31mNameError\u001B[0m                                 Traceback (most recent call last)",
      "Cell \u001B[0;32mIn[31], line 32\u001B[0m\n\u001B[1;32m     30\u001B[0m plt\u001B[38;5;241m.\u001B[39mtitle(\u001B[38;5;124m'\u001B[39m\u001B[38;5;124mHistogram displaying Statevector Probability Amplitudes\u001B[39m\u001B[38;5;124m'\u001B[39m)  \n\u001B[1;32m     31\u001B[0m plt\u001B[38;5;241m.\u001B[39mxticks(rotation\u001B[38;5;241m=\u001B[39m\u001B[38;5;241m90\u001B[39m)\n\u001B[0;32m---> 32\u001B[0m pps \u001B[38;5;241m=\u001B[39m \u001B[43max\u001B[49m\u001B[38;5;241m.\u001B[39mbar(x \u001B[38;5;241m-\u001B[39m width\u001B[38;5;241m/\u001B[39m\u001B[38;5;241m2\u001B[39m, counts, width, label\u001B[38;5;241m=\u001B[39m\u001B[38;5;124m'\u001B[39m\u001B[38;5;124mpopulation\u001B[39m\u001B[38;5;124m'\u001B[39m)\n\u001B[1;32m     33\u001B[0m \u001B[38;5;28;01mfor\u001B[39;00m p \u001B[38;5;129;01min\u001B[39;00m pps:\n\u001B[1;32m     34\u001B[0m    height \u001B[38;5;241m=\u001B[39m p\u001B[38;5;241m.\u001B[39mget_height()\n",
      "\u001B[0;31mNameError\u001B[0m: name 'ax' is not defined"
     ]
    },
    {
     "data": {
      "text/plain": [
       "<Figure size 1400x700 with 1 Axes>"
      ],
      "image/png": "[encoded data removed]"
     },
     "metadata": {},
     "output_type": "display_data"
    }
   ],
   "execution_count": 31
  },
  {
   "metadata": {
    "ExecuteTime": {
     "end_time": "2024-08-16T09:01:41.028010Z",
     "start_time": "2024-08-16T09:01:41.026410Z"
    }
   },
   "cell_type": "code",
   "source": "",
   "id": "d2bcee9f3840a892",
   "outputs": [],
   "execution_count": 26
  }
 ],
 "metadata": {
  "kernelspec": {
   "display_name": "Python 3",
   "language": "python",
   "name": "python3"
  },
  "language_info": {
   "codemirror_mode": {
    "name": "ipython",
    "version": 2
   },
   "file_extension": ".py",
   "mimetype": "text/x-python",
   "name": "python",
   "nbconvert_exporter": "python",
   "pygments_lexer": "ipython2",
   "version": "2.7.6"
  }
 },
 "nbformat": 4,
 "nbformat_minor": 5
}
