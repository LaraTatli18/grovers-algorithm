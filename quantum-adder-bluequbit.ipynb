{
 "cells": [
  {
   "cell_type": "code",
   "id": "initial_id",
   "metadata": {
    "collapsed": true,
    "ExecuteTime": {
     "end_time": "2024-08-20T10:50:12.602336Z",
     "start_time": "2024-08-20T10:50:11.051508Z"
    }
   },
   "source": [
    "!pip install bluequbit\n",
    "import bluequbit\n",
    "from qiskit import QuantumCircuit"
   ],
   "outputs": [
    {
     "name": "stdout",
     "output_type": "stream",
     "text": [
      "Requirement already satisfied: bluequbit in ./.venv/lib/python3.12/site-packages (0.8.3b1)\r\n",
      "Requirement already satisfied: requests~=2.28 in ./.venv/lib/python3.12/site-packages (from bluequbit) (2.32.3)\r\n",
      "Requirement already satisfied: python-dateutil~=2.8 in ./.venv/lib/python3.12/site-packages (from bluequbit) (2.9.0.post0)\r\n",
      "Requirement already satisfied: numpy~=1.21 in ./.venv/lib/python3.12/site-packages (from bluequbit) (1.26.4)\r\n",
      "Requirement already satisfied: packaging in ./.venv/lib/python3.12/site-packages (from bluequbit) (24.1)\r\n",
      "Requirement already satisfied: six>=1.5 in ./.venv/lib/python3.12/site-packages (from python-dateutil~=2.8->bluequbit) (1.16.0)\r\n",
      "Requirement already satisfied: charset-normalizer<4,>=2 in ./.venv/lib/python3.12/site-packages (from requests~=2.28->bluequbit) (3.3.2)\r\n",
      "Requirement already satisfied: idna<4,>=2.5 in ./.venv/lib/python3.12/site-packages (from requests~=2.28->bluequbit) (3.7)\r\n",
      "Requirement already satisfied: urllib3<3,>=1.21.1 in ./.venv/lib/python3.12/site-packages (from requests~=2.28->bluequbit) (2.2.2)\r\n",
      "Requirement already satisfied: certifi>=2017.4.17 in ./.venv/lib/python3.12/site-packages (from requests~=2.28->bluequbit) (2024.7.4)\r\n"
     ]
    }
   ],
   "execution_count": 1
  },
  {
   "metadata": {
    "ExecuteTime": {
     "end_time": "2024-08-20T10:50:12.637864Z",
     "start_time": "2024-08-20T10:50:12.605218Z"
    }
   },
   "cell_type": "code",
   "source": [
    "adder = QuantumCircuit(13, name='adder')\n",
    "\n",
    "adder.cx(2,11)\n",
    "adder.cx(5,11)\n",
    "adder.ccx(2,5,6)\n",
    "\n",
    "adder.barrier()\n",
    "\n",
    "adder.cx(1,10)\n",
    "adder.cx(4,10)\n",
    "adder.cx(6,10)\n",
    "adder.ccx(1,4,7)\n",
    "adder.ccx(1,6,7)\n",
    "adder.ccx(4,6,7)\n",
    "\n",
    "adder.barrier()\n",
    "\n",
    "adder.cx(0,9)\n",
    "adder.cx(3,9)\n",
    "adder.cx(7,9)\n",
    "\n",
    "adder.ccx(0,3,8)\n",
    "adder.ccx(0,7,8)\n",
    "adder.ccx(3,7,8)\n",
    "\n",
    "\n",
    "adder.draw(justify='none')"
   ],
   "id": "57e154cca5b60f39",
   "outputs": [
    {
     "data": {
      "text/plain": [
       "                      ░                                ░                     »\n",
       " q_0: ────────────────░────────────────────────────────░───■─────────■───────»\n",
       "                      ░                                ░   │         │       »\n",
       " q_1: ────────────────░───■─────────■─────────■────────░───┼─────────┼───────»\n",
       "                      ░   │         │         │        ░   │         │       »\n",
       " q_2: ──■─────────■───░───┼─────────┼─────────┼────────░───┼─────────┼───────»\n",
       "        │         │   ░   │         │         │        ░   │         │       »\n",
       " q_3: ──┼─────────┼───░───┼─────────┼─────────┼────────░───┼────■────■───────»\n",
       "        │         │   ░   │         │         │        ░   │    │    │       »\n",
       " q_4: ──┼─────────┼───░───┼────■────■─────────┼────■───░───┼────┼────┼───────»\n",
       "        │         │   ░   │    │    │         │    │   ░   │    │    │       »\n",
       " q_5: ──┼────■────■───░───┼────┼────┼─────────┼────┼───░───┼────┼────┼───────»\n",
       "        │    │  ┌─┴─┐ ░   │    │    │         │    │   ░   │    │    │       »\n",
       " q_6: ──┼────┼──┤ X ├─░───┼────┼────┼────■────■────■───░───┼────┼────┼───────»\n",
       "        │    │  └───┘ ░   │    │  ┌─┴─┐  │  ┌─┴─┐┌─┴─┐ ░   │    │    │       »\n",
       " q_7: ──┼────┼────────░───┼────┼──┤ X ├──┼──┤ X ├┤ X ├─░───┼────┼────┼────■──»\n",
       "        │    │        ░   │    │  └───┘  │  └───┘└───┘ ░   │    │  ┌─┴─┐  │  »\n",
       " q_8: ──┼────┼────────░───┼────┼─────────┼─────────────░───┼────┼──┤ X ├──┼──»\n",
       "        │    │        ░   │    │         │             ░ ┌─┴─┐┌─┴─┐└───┘┌─┴─┐»\n",
       " q_9: ──┼────┼────────░───┼────┼─────────┼─────────────░─┤ X ├┤ X ├─────┤ X ├»\n",
       "        │    │        ░ ┌─┴─┐┌─┴─┐     ┌─┴─┐           ░ └───┘└───┘     └───┘»\n",
       "q_10: ──┼────┼────────░─┤ X ├┤ X ├─────┤ X ├───────────░─────────────────────»\n",
       "      ┌─┴─┐┌─┴─┐      ░ └───┘└───┘     └───┘           ░                     »\n",
       "q_11: ┤ X ├┤ X ├──────░────────────────────────────────░─────────────────────»\n",
       "      └───┘└───┘      ░                                ░                     »\n",
       "q_12: ────────────────░────────────────────────────────░─────────────────────»\n",
       "                      ░                                ░                     »\n",
       "«                \n",
       "« q_0: ──■───────\n",
       "«        │       \n",
       "« q_1: ──┼───────\n",
       "«        │       \n",
       "« q_2: ──┼───────\n",
       "«        │       \n",
       "« q_3: ──┼────■──\n",
       "«        │    │  \n",
       "« q_4: ──┼────┼──\n",
       "«        │    │  \n",
       "« q_5: ──┼────┼──\n",
       "«        │    │  \n",
       "« q_6: ──┼────┼──\n",
       "«        │    │  \n",
       "« q_7: ──■────■──\n",
       "«      ┌─┴─┐┌─┴─┐\n",
       "« q_8: ┤ X ├┤ X ├\n",
       "«      └───┘└───┘\n",
       "« q_9: ──────────\n",
       "«                \n",
       "«q_10: ──────────\n",
       "«                \n",
       "«q_11: ──────────\n",
       "«                \n",
       "«q_12: ──────────\n",
       "«                "
      ],
      "text/html": [
       "<pre style=\"word-wrap: normal;white-space: pre;background: #fff0;line-height: 1.1;font-family: &quot;Courier New&quot;,Courier,monospace\">                      ░                                ░                     »\n",
       " q_0: ────────────────░────────────────────────────────░───■─────────■───────»\n",
       "                      ░                                ░   │         │       »\n",
       " q_1: ────────────────░───■─────────■─────────■────────░───┼─────────┼───────»\n",
       "                      ░   │         │         │        ░   │         │       »\n",
       " q_2: ──■─────────■───░───┼─────────┼─────────┼────────░───┼─────────┼───────»\n",
       "        │         │   ░   │         │         │        ░   │         │       »\n",
       " q_3: ──┼─────────┼───░───┼─────────┼─────────┼────────░───┼────■────■───────»\n",
       "        │         │   ░   │         │         │        ░   │    │    │       »\n",
       " q_4: ──┼─────────┼───░───┼────■────■─────────┼────■───░───┼────┼────┼───────»\n",
       "        │         │   ░   │    │    │         │    │   ░   │    │    │       »\n",
       " q_5: ──┼────■────■───░───┼────┼────┼─────────┼────┼───░───┼────┼────┼───────»\n",
       "        │    │  ┌─┴─┐ ░   │    │    │         │    │   ░   │    │    │       »\n",
       " q_6: ──┼────┼──┤ X ├─░───┼────┼────┼────■────■────■───░───┼────┼────┼───────»\n",
       "        │    │  └───┘ ░   │    │  ┌─┴─┐  │  ┌─┴─┐┌─┴─┐ ░   │    │    │       »\n",
       " q_7: ──┼────┼────────░───┼────┼──┤ X ├──┼──┤ X ├┤ X ├─░───┼────┼────┼────■──»\n",
       "        │    │        ░   │    │  └───┘  │  └───┘└───┘ ░   │    │  ┌─┴─┐  │  »\n",
       " q_8: ──┼────┼────────░───┼────┼─────────┼─────────────░───┼────┼──┤ X ├──┼──»\n",
       "        │    │        ░   │    │         │             ░ ┌─┴─┐┌─┴─┐└───┘┌─┴─┐»\n",
       " q_9: ──┼────┼────────░───┼────┼─────────┼─────────────░─┤ X ├┤ X ├─────┤ X ├»\n",
       "        │    │        ░ ┌─┴─┐┌─┴─┐     ┌─┴─┐           ░ └───┘└───┘     └───┘»\n",
       "q_10: ──┼────┼────────░─┤ X ├┤ X ├─────┤ X ├───────────░─────────────────────»\n",
       "      ┌─┴─┐┌─┴─┐      ░ └───┘└───┘     └───┘           ░                     »\n",
       "q_11: ┤ X ├┤ X ├──────░────────────────────────────────░─────────────────────»\n",
       "      └───┘└───┘      ░                                ░                     »\n",
       "q_12: ────────────────░────────────────────────────────░─────────────────────»\n",
       "                      ░                                ░                     »\n",
       "«                \n",
       "« q_0: ──■───────\n",
       "«        │       \n",
       "« q_1: ──┼───────\n",
       "«        │       \n",
       "« q_2: ──┼───────\n",
       "«        │       \n",
       "« q_3: ──┼────■──\n",
       "«        │    │  \n",
       "« q_4: ──┼────┼──\n",
       "«        │    │  \n",
       "« q_5: ──┼────┼──\n",
       "«        │    │  \n",
       "« q_6: ──┼────┼──\n",
       "«        │    │  \n",
       "« q_7: ──■────■──\n",
       "«      ┌─┴─┐┌─┴─┐\n",
       "« q_8: ┤ X ├┤ X ├\n",
       "«      └───┘└───┘\n",
       "« q_9: ──────────\n",
       "«                \n",
       "«q_10: ──────────\n",
       "«                \n",
       "«q_11: ──────────\n",
       "«                \n",
       "«q_12: ──────────\n",
       "«                </pre>"
      ]
     },
     "execution_count": 2,
     "metadata": {},
     "output_type": "execute_result"
    }
   ],
   "execution_count": 2
  },
  {
   "metadata": {
    "ExecuteTime": {
     "end_time": "2024-08-20T13:58:10.570074Z",
     "start_time": "2024-08-20T13:58:10.557490Z"
    }
   },
   "cell_type": "code",
   "source": [
    "adderr = QuantumCircuit(13, name='adder_reverse')\n",
    "\n",
    "adderr.ccx(3,7,8)\n",
    "adderr.ccx(0,7,8)\n",
    "adderr.ccx(0,3,8)\n",
    "adderr.cx(7,9)\n",
    "adderr.cx(3,9)\n",
    "adderr.cx(0,9)\n",
    "\n",
    "adderr.ccx(4,6,7)\n",
    "adderr.ccx(1,6,7)\n",
    "adderr.ccx(1,4,7)\n",
    "adderr.cx(6,10)\n",
    "adderr.cx(4,10)\n",
    "adderr.cx(1,10)\n",
    "\n",
    "adderr.ccx(2,5,6)\n",
    "adderr.cx(5,11)\n",
    "adderr.cx(2,11)"
   ],
   "id": "f8b270b5d22619c8",
   "outputs": [
    {
     "data": {
      "text/plain": [
       "<qiskit.circuit.instructionset.InstructionSet at 0x13c889b10>"
      ]
     },
     "execution_count": 63,
     "metadata": {},
     "output_type": "execute_result"
    }
   ],
   "execution_count": 63
  },
  {
   "metadata": {
    "ExecuteTime": {
     "end_time": "2024-08-20T10:50:12.648411Z",
     "start_time": "2024-08-20T10:50:12.643107Z"
    }
   },
   "cell_type": "code",
   "source": [
    "oracle = QuantumCircuit(13, name='oracle')\n",
    "\n",
    "oracle.x(8)\n",
    "#oracle.x(9)\n",
    "oracle.x(10)\n",
    "#oracle.x(11)\n",
    "\n",
    "oracle.mcx([8,9,10,11],12)\n",
    "\n",
    "oracle.x(8)\n",
    "#oracle.x(9)\n",
    "oracle.x(10)\n",
    "#oracle.x(11)\n",
    "\n",
    "\n",
    "oracle.draw()"
   ],
   "id": "b4ccdfe09a6fad18",
   "outputs": [
    {
     "data": {
      "text/plain": [
       "                     \n",
       " q_0: ───────────────\n",
       "                     \n",
       " q_1: ───────────────\n",
       "                     \n",
       " q_2: ───────────────\n",
       "                     \n",
       " q_3: ───────────────\n",
       "                     \n",
       " q_4: ───────────────\n",
       "                     \n",
       " q_5: ───────────────\n",
       "                     \n",
       " q_6: ───────────────\n",
       "                     \n",
       " q_7: ───────────────\n",
       "      ┌───┐     ┌───┐\n",
       " q_8: ┤ X ├──■──┤ X ├\n",
       "      └───┘  │  └───┘\n",
       " q_9: ───────■───────\n",
       "      ┌───┐  │  ┌───┐\n",
       "q_10: ┤ X ├──■──┤ X ├\n",
       "      └───┘  │  └───┘\n",
       "q_11: ───────■───────\n",
       "           ┌─┴─┐     \n",
       "q_12: ─────┤ X ├─────\n",
       "           └───┘     "
      ],
      "text/html": [
       "<pre style=\"word-wrap: normal;white-space: pre;background: #fff0;line-height: 1.1;font-family: &quot;Courier New&quot;,Courier,monospace\">                     \n",
       " q_0: ───────────────\n",
       "                     \n",
       " q_1: ───────────────\n",
       "                     \n",
       " q_2: ───────────────\n",
       "                     \n",
       " q_3: ───────────────\n",
       "                     \n",
       " q_4: ───────────────\n",
       "                     \n",
       " q_5: ───────────────\n",
       "                     \n",
       " q_6: ───────────────\n",
       "                     \n",
       " q_7: ───────────────\n",
       "      ┌───┐     ┌───┐\n",
       " q_8: ┤ X ├──■──┤ X ├\n",
       "      └───┘  │  └───┘\n",
       " q_9: ───────■───────\n",
       "      ┌───┐  │  ┌───┐\n",
       "q_10: ┤ X ├──■──┤ X ├\n",
       "      └───┘  │  └───┘\n",
       "q_11: ───────■───────\n",
       "           ┌─┴─┐     \n",
       "q_12: ─────┤ X ├─────\n",
       "           └───┘     </pre>"
      ]
     },
     "execution_count": 4,
     "metadata": {},
     "output_type": "execute_result"
    }
   ],
   "execution_count": 4
  },
  {
   "metadata": {
    "ExecuteTime": {
     "end_time": "2024-08-20T12:02:15.004135Z",
     "start_time": "2024-08-20T12:02:14.985443Z"
    }
   },
   "cell_type": "code",
   "source": [
    "diffuser = QuantumCircuit(13, name='diffuser')\n",
    "\n",
    "diffuser.h([0,1,2,3,4,5])\n",
    "diffuser.x([0,1,2,3,4,5])\n",
    "    \n",
    "diffuser.mcx([0,1,2,3,4,5], 12)\n",
    "\n",
    "diffuser.x([0,1,2,3,4,5])   \n",
    "diffuser.h([0,1,2,3,4,5])\n",
    "\n",
    "\n",
    "diffuser.draw()"
   ],
   "id": "ba62a159835c08e2",
   "outputs": [
    {
     "data": {
      "text/plain": [
       "      ┌───┐┌───┐     ┌───┐┌───┐\n",
       " q_0: ┤ H ├┤ X ├──■──┤ X ├┤ H ├\n",
       "      ├───┤├───┤  │  ├───┤├───┤\n",
       " q_1: ┤ H ├┤ X ├──■──┤ X ├┤ H ├\n",
       "      ├───┤├───┤  │  ├───┤├───┤\n",
       " q_2: ┤ H ├┤ X ├──■──┤ X ├┤ H ├\n",
       "      ├───┤├───┤  │  ├───┤├───┤\n",
       " q_3: ┤ H ├┤ X ├──■──┤ X ├┤ H ├\n",
       "      ├───┤├───┤  │  ├───┤├───┤\n",
       " q_4: ┤ H ├┤ X ├──■──┤ X ├┤ H ├\n",
       "      ├───┤├───┤  │  ├───┤├───┤\n",
       " q_5: ┤ H ├┤ X ├──■──┤ X ├┤ H ├\n",
       "      └───┘└───┘  │  └───┘└───┘\n",
       " q_6: ────────────┼────────────\n",
       "                  │            \n",
       " q_7: ────────────┼────────────\n",
       "                  │            \n",
       " q_8: ────────────┼────────────\n",
       "                  │            \n",
       " q_9: ────────────┼────────────\n",
       "                  │            \n",
       "q_10: ────────────┼────────────\n",
       "                  │            \n",
       "q_11: ────────────┼────────────\n",
       "                ┌─┴─┐          \n",
       "q_12: ──────────┤ X ├──────────\n",
       "                └───┘          "
      ],
      "text/html": [
       "<pre style=\"word-wrap: normal;white-space: pre;background: #fff0;line-height: 1.1;font-family: &quot;Courier New&quot;,Courier,monospace\">      ┌───┐┌───┐     ┌───┐┌───┐\n",
       " q_0: ┤ H ├┤ X ├──■──┤ X ├┤ H ├\n",
       "      ├───┤├───┤  │  ├───┤├───┤\n",
       " q_1: ┤ H ├┤ X ├──■──┤ X ├┤ H ├\n",
       "      ├───┤├───┤  │  ├───┤├───┤\n",
       " q_2: ┤ H ├┤ X ├──■──┤ X ├┤ H ├\n",
       "      ├───┤├───┤  │  ├───┤├───┤\n",
       " q_3: ┤ H ├┤ X ├──■──┤ X ├┤ H ├\n",
       "      ├───┤├───┤  │  ├───┤├───┤\n",
       " q_4: ┤ H ├┤ X ├──■──┤ X ├┤ H ├\n",
       "      ├───┤├───┤  │  ├───┤├───┤\n",
       " q_5: ┤ H ├┤ X ├──■──┤ X ├┤ H ├\n",
       "      └───┘└───┘  │  └───┘└───┘\n",
       " q_6: ────────────┼────────────\n",
       "                  │            \n",
       " q_7: ────────────┼────────────\n",
       "                  │            \n",
       " q_8: ────────────┼────────────\n",
       "                  │            \n",
       " q_9: ────────────┼────────────\n",
       "                  │            \n",
       "q_10: ────────────┼────────────\n",
       "                  │            \n",
       "q_11: ────────────┼────────────\n",
       "                ┌─┴─┐          \n",
       "q_12: ──────────┤ X ├──────────\n",
       "                └───┘          </pre>"
      ]
     },
     "execution_count": 13,
     "metadata": {},
     "output_type": "execute_result"
    }
   ],
   "execution_count": 13
  },
  {
   "metadata": {
    "ExecuteTime": {
     "end_time": "2024-08-20T11:25:00.414317Z",
     "start_time": "2024-08-20T11:25:00.403308Z"
    }
   },
   "cell_type": "code",
   "source": [
    "from qiskit import QuantumRegister, ClassicalRegister\n",
    "\n",
    "qr = QuantumRegister(13, 'q')\n",
    "cr = ClassicalRegister(6, 'c')\n",
    "grovercircuit = QuantumCircuit(qr, cr)\n",
    "\n",
    "iterations = 1\n",
    "\n",
    "grovercircuit.x(12)\n",
    "grovercircuit.h(12)\n",
    "\n",
    "grovercircuit.h(0)\n",
    "grovercircuit.h(1)\n",
    "grovercircuit.h(2)\n",
    "grovercircuit.h(3)\n",
    "grovercircuit.h(4)\n",
    "grovercircuit.h(5)\n",
    "\n",
    "grovercircuit.barrier()\n",
    "\n",
    "for i in range(iterations):\n",
    "    grovercircuit.append(adder, [0,1,2,3,4,5,6,7,8,9,10,11,12])\n",
    "    grovercircuit.append(oracle, [0,1,2,3,4,5,6,7,8,9,10,11,12])\n",
    "    grovercircuit.append(adderr, [0,1,2,3,4,5,6,7,8,9,10,11,12])\n",
    "    grovercircuit.append(diffuser, [0,1,2,3,4,5,6,7,8,9,10,11,12])\n",
    "\n",
    "\n",
    "grovercircuit.measure([qr[0], qr[1], qr[2], qr[3], qr[4], qr[5]], [cr[0], cr[1], cr[2], cr[3], cr[4], cr[5]])\n",
    "\n",
    "grovercircuit.draw()"
   ],
   "id": "db77ecb03880b889",
   "outputs": [
    {
     "data": {
      "text/plain": [
       "      ┌───┐      ░ ┌─────────┐┌──────────┐┌─────────────────┐┌────────────┐┌─┐»\n",
       " q_0: ┤ H ├──────░─┤0        ├┤0         ├┤0                ├┤0           ├┤M├»\n",
       "      ├───┤      ░ │         ││          ││                 ││            │└╥┘»\n",
       " q_1: ┤ H ├──────░─┤1        ├┤1         ├┤1                ├┤1           ├─╫─»\n",
       "      ├───┤      ░ │         ││          ││                 ││            │ ║ »\n",
       " q_2: ┤ H ├──────░─┤2        ├┤2         ├┤2                ├┤2           ├─╫─»\n",
       "      ├───┤      ░ │         ││          ││                 ││            │ ║ »\n",
       " q_3: ┤ H ├──────░─┤3        ├┤3         ├┤3                ├┤3           ├─╫─»\n",
       "      ├───┤      ░ │         ││          ││                 ││            │ ║ »\n",
       " q_4: ┤ H ├──────░─┤4        ├┤4         ├┤4                ├┤4           ├─╫─»\n",
       "      ├───┤      ░ │         ││          ││                 ││            │ ║ »\n",
       " q_5: ┤ H ├──────░─┤5        ├┤5         ├┤5                ├┤5           ├─╫─»\n",
       "      └───┘      ░ │         ││          ││                 ││            │ ║ »\n",
       " q_6: ───────────░─┤6  adder ├┤6  oracle ├┤6  adder_reverse ├┤6  diffuser ├─╫─»\n",
       "                 ░ │         ││          ││                 ││            │ ║ »\n",
       " q_7: ───────────░─┤7        ├┤7         ├┤7                ├┤7           ├─╫─»\n",
       "                 ░ │         ││          ││                 ││            │ ║ »\n",
       " q_8: ───────────░─┤8        ├┤8         ├┤8                ├┤8           ├─╫─»\n",
       "                 ░ │         ││          ││                 ││            │ ║ »\n",
       " q_9: ───────────░─┤9        ├┤9         ├┤9                ├┤9           ├─╫─»\n",
       "                 ░ │         ││          ││                 ││            │ ║ »\n",
       "q_10: ───────────░─┤10       ├┤10        ├┤10               ├┤10          ├─╫─»\n",
       "                 ░ │         ││          ││                 ││            │ ║ »\n",
       "q_11: ───────────░─┤11       ├┤11        ├┤11               ├┤11          ├─╫─»\n",
       "      ┌───┐┌───┐ ░ │         ││          ││                 ││            │ ║ »\n",
       "q_12: ┤ X ├┤ H ├─░─┤12       ├┤12        ├┤12               ├┤12          ├─╫─»\n",
       "      └───┘└───┘ ░ └─────────┘└──────────┘└─────────────────┘└────────────┘ ║ »\n",
       " c: 6/══════════════════════════════════════════════════════════════════════╩═»\n",
       "                                                                            0 »\n",
       "«                     \n",
       "« q_0: ───────────────\n",
       "«      ┌─┐            \n",
       "« q_1: ┤M├────────────\n",
       "«      └╥┘┌─┐         \n",
       "« q_2: ─╫─┤M├─────────\n",
       "«       ║ └╥┘┌─┐      \n",
       "« q_3: ─╫──╫─┤M├──────\n",
       "«       ║  ║ └╥┘┌─┐   \n",
       "« q_4: ─╫──╫──╫─┤M├───\n",
       "«       ║  ║  ║ └╥┘┌─┐\n",
       "« q_5: ─╫──╫──╫──╫─┤M├\n",
       "«       ║  ║  ║  ║ └╥┘\n",
       "« q_6: ─╫──╫──╫──╫──╫─\n",
       "«       ║  ║  ║  ║  ║ \n",
       "« q_7: ─╫──╫──╫──╫──╫─\n",
       "«       ║  ║  ║  ║  ║ \n",
       "« q_8: ─╫──╫──╫──╫──╫─\n",
       "«       ║  ║  ║  ║  ║ \n",
       "« q_9: ─╫──╫──╫──╫──╫─\n",
       "«       ║  ║  ║  ║  ║ \n",
       "«q_10: ─╫──╫──╫──╫──╫─\n",
       "«       ║  ║  ║  ║  ║ \n",
       "«q_11: ─╫──╫──╫──╫──╫─\n",
       "«       ║  ║  ║  ║  ║ \n",
       "«q_12: ─╫──╫──╫──╫──╫─\n",
       "«       ║  ║  ║  ║  ║ \n",
       "« c: 6/═╩══╩══╩══╩══╩═\n",
       "«       1  2  3  4  5 "
      ],
      "text/html": [
       "<pre style=\"word-wrap: normal;white-space: pre;background: #fff0;line-height: 1.1;font-family: &quot;Courier New&quot;,Courier,monospace\">      ┌───┐      ░ ┌─────────┐┌──────────┐┌─────────────────┐┌────────────┐┌─┐»\n",
       " q_0: ┤ H ├──────░─┤0        ├┤0         ├┤0                ├┤0           ├┤M├»\n",
       "      ├───┤      ░ │         ││          ││                 ││            │└╥┘»\n",
       " q_1: ┤ H ├──────░─┤1        ├┤1         ├┤1                ├┤1           ├─╫─»\n",
       "      ├───┤      ░ │         ││          ││                 ││            │ ║ »\n",
       " q_2: ┤ H ├──────░─┤2        ├┤2         ├┤2                ├┤2           ├─╫─»\n",
       "      ├───┤      ░ │         ││          ││                 ││            │ ║ »\n",
       " q_3: ┤ H ├──────░─┤3        ├┤3         ├┤3                ├┤3           ├─╫─»\n",
       "      ├───┤      ░ │         ││          ││                 ││            │ ║ »\n",
       " q_4: ┤ H ├──────░─┤4        ├┤4         ├┤4                ├┤4           ├─╫─»\n",
       "      ├───┤      ░ │         ││          ││                 ││            │ ║ »\n",
       " q_5: ┤ H ├──────░─┤5        ├┤5         ├┤5                ├┤5           ├─╫─»\n",
       "      └───┘      ░ │         ││          ││                 ││            │ ║ »\n",
       " q_6: ───────────░─┤6  adder ├┤6  oracle ├┤6  adder_reverse ├┤6  diffuser ├─╫─»\n",
       "                 ░ │         ││          ││                 ││            │ ║ »\n",
       " q_7: ───────────░─┤7        ├┤7         ├┤7                ├┤7           ├─╫─»\n",
       "                 ░ │         ││          ││                 ││            │ ║ »\n",
       " q_8: ───────────░─┤8        ├┤8         ├┤8                ├┤8           ├─╫─»\n",
       "                 ░ │         ││          ││                 ││            │ ║ »\n",
       " q_9: ───────────░─┤9        ├┤9         ├┤9                ├┤9           ├─╫─»\n",
       "                 ░ │         ││          ││                 ││            │ ║ »\n",
       "q_10: ───────────░─┤10       ├┤10        ├┤10               ├┤10          ├─╫─»\n",
       "                 ░ │         ││          ││                 ││            │ ║ »\n",
       "q_11: ───────────░─┤11       ├┤11        ├┤11               ├┤11          ├─╫─»\n",
       "      ┌───┐┌───┐ ░ │         ││          ││                 ││            │ ║ »\n",
       "q_12: ┤ X ├┤ H ├─░─┤12       ├┤12        ├┤12               ├┤12          ├─╫─»\n",
       "      └───┘└───┘ ░ └─────────┘└──────────┘└─────────────────┘└────────────┘ ║ »\n",
       " c: 6/══════════════════════════════════════════════════════════════════════╩═»\n",
       "                                                                            0 »\n",
       "«                     \n",
       "« q_0: ───────────────\n",
       "«      ┌─┐            \n",
       "« q_1: ┤M├────────────\n",
       "«      └╥┘┌─┐         \n",
       "« q_2: ─╫─┤M├─────────\n",
       "«       ║ └╥┘┌─┐      \n",
       "« q_3: ─╫──╫─┤M├──────\n",
       "«       ║  ║ └╥┘┌─┐   \n",
       "« q_4: ─╫──╫──╫─┤M├───\n",
       "«       ║  ║  ║ └╥┘┌─┐\n",
       "« q_5: ─╫──╫──╫──╫─┤M├\n",
       "«       ║  ║  ║  ║ └╥┘\n",
       "« q_6: ─╫──╫──╫──╫──╫─\n",
       "«       ║  ║  ║  ║  ║ \n",
       "« q_7: ─╫──╫──╫──╫──╫─\n",
       "«       ║  ║  ║  ║  ║ \n",
       "« q_8: ─╫──╫──╫──╫──╫─\n",
       "«       ║  ║  ║  ║  ║ \n",
       "« q_9: ─╫──╫──╫──╫──╫─\n",
       "«       ║  ║  ║  ║  ║ \n",
       "«q_10: ─╫──╫──╫──╫──╫─\n",
       "«       ║  ║  ║  ║  ║ \n",
       "«q_11: ─╫──╫──╫──╫──╫─\n",
       "«       ║  ║  ║  ║  ║ \n",
       "«q_12: ─╫──╫──╫──╫──╫─\n",
       "«       ║  ║  ║  ║  ║ \n",
       "« c: 6/═╩══╩══╩══╩══╩═\n",
       "«       1  2  3  4  5 </pre>"
      ]
     },
     "execution_count": 12,
     "metadata": {},
     "output_type": "execute_result"
    }
   ],
   "execution_count": 12
  },
  {
   "metadata": {
    "ExecuteTime": {
     "end_time": "2024-08-20T13:57:26.053519Z",
     "start_time": "2024-08-20T13:57:18.902738Z"
    }
   },
   "cell_type": "code",
   "source": [
    "bq = bluequbit.init(\"hcrcppPlrZRf012AUd7FYzTcXMV6ZZoL\")\n",
    "result = bq.run(grovercircuit) # device can also be 'cpu' or 'quantum'\n",
    "\n",
    "data = result.get_counts()"
   ],
   "id": "582aca84ff9faa51",
   "outputs": [
    {
     "name": "stderr",
     "output_type": "stream",
     "text": [
      "BQ-PYTHON-SDK - WARNING - Beta version 0.8.3b1 of BlueQubit Python SDK is being used.\n",
      "BQ-PYTHON-SDK - INFO - Submitted: Job ID: kdPRzA1uSb40povj, device: cpu, run status: PENDING, created on: 2024-08-20 13:57:20 UTC, estimated runtime: 100 ms, estimated cost: $0.00, num qubits: 13\n"
     ]
    }
   ],
   "execution_count": 60
  },
  {
   "metadata": {
    "ExecuteTime": {
     "end_time": "2024-08-20T13:57:48.701155Z",
     "start_time": "2024-08-20T13:57:48.543200Z"
    }
   },
   "cell_type": "code",
   "source": [
    "import matplotlib.pyplot as plt\n",
    "import numpy as np\n",
    "plt.rcParams.update({'font.size': 16})\n",
    "\n",
    "states = list(data.keys())\n",
    "counts = list(data.values())\n",
    "print(\"Number of possible combinations:\", len(states))\n",
    "\n",
    "quantumStates = []\n",
    "\n",
    "for state in states:\n",
    "    #new_state = '|' + state[::-1] + '>'\n",
    "    new_state = state[::-1]\n",
    "    quantumStates.append(new_state)\n",
    "    \n",
    "display_labels = [5, 12, 22, 33, 40, 50] # indices of the solutions (to display their labels)\n",
    "x = np.arange(len(quantumStates))\n",
    "\n",
    "fig, ax = plt.subplots(figsize=(12, 7))\n",
    "ax.bar(quantumStates, counts, color='blue')\n",
    "\n",
    "ax.set_xticks(x)\n",
    "ax.set_xticklabels([quantumStates[i] if i in display_labels else '' for i in range(len(quantumStates))], rotation=90)\n",
    "\n",
    "ax.set_ylabel('Probability Amplitude')\n",
    "ax.set_xlabel('Quantum \\n States')\n",
    "plt.gca().xaxis.set_label_coords(0.9, -0.08)\n"
   ],
   "id": "7503dbe4e9c93637",
   "outputs": [
    {
     "name": "stdout",
     "output_type": "stream",
     "text": [
      "Number of possible combinations: 64\n"
     ]
    },
    {
     "data": {
      "text/plain": [
       "<Figure size 1200x700 with 1 Axes>"
      ],
      "image/png": "[encoded data removed]"
     },
     "metadata": {},
     "output_type": "display_data"
    }
   ],
   "execution_count": 62
  },
  {
   "metadata": {
    "ExecuteTime": {
     "end_time": "2024-08-16T09:01:41.028010Z",
     "start_time": "2024-08-16T09:01:41.026410Z"
    }
   },
   "cell_type": "code",
   "source": "",
   "id": "d2bcee9f3840a892",
   "outputs": [],
   "execution_count": 26
  }
 ],
 "metadata": {
  "kernelspec": {
   "display_name": "Python 3",
   "language": "python",
   "name": "python3"
  },
  "language_info": {
   "codemirror_mode": {
    "name": "ipython",
    "version": 2
   },
   "file_extension": ".py",
   "mimetype": "text/x-python",
   "name": "python",
   "nbconvert_exporter": "python",
   "pygments_lexer": "ipython2",
   "version": "2.7.6"
  }
 },
 "nbformat": 4,
 "nbformat_minor": 5
}
