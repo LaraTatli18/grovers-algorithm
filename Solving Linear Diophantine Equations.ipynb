{
 "cells": [
  {
   "cell_type": "code",
   "execution_count": 86,
   "id": "99073b43-173b-4c95-be0e-b24da841405f",
   "metadata": {
    "tags": []
   },
   "outputs": [],
   "source": [
    "# Importing standard Qiskit libraries\n",
    "from qiskit import QuantumCircuit, transpile\n",
    "from qiskit.tools.jupyter import *\n",
    "from qiskit.visualization import *\n",
    "from ibm_quantum_widgets import *\n",
    "\n",
    "# qiskit-ibmq-provider has been deprecated.\n",
    "# Please see the Migration Guides in https://ibm.biz/provider_migration_guide for more detail.\n",
    "from qiskit_ibm_runtime import QiskitRuntimeService, Sampler, Estimator, Session, Options\n",
    "\n",
    "# Loading your IBM Quantum account(s)\n",
    "service = QiskitRuntimeService(channel=\"ibm_quantum\")\n",
    "\n",
    "# Invoke a primitive. For more details see https://qiskit.org/documentation/partners/qiskit_ibm_runtime/tutorials.html\n",
    "# result = Sampler(\"ibmq_qasm_simulator\").run(circuits).result()"
   ]
  },
  {
   "cell_type": "code",
   "execution_count": 87,
   "id": "3d4d7a26-e471-44bb-9a57-5001d54cfbc6",
   "metadata": {
    "tags": []
   },
   "outputs": [
    {
     "data": {
      "text/plain": [
       "<qiskit.circuit.instructionset.InstructionSet at 0x7f89dda6f8b0>"
      ]
     },
     "execution_count": 87,
     "metadata": {},
     "output_type": "execute_result"
    }
   ],
   "source": [
    "adder = QuantumCircuit(13, name='adder')\n",
    "\n",
    "adder.cx(2,11)\n",
    "adder.cx(5,11)\n",
    "adder.ccx(2,5,6)\n",
    "\n",
    "adder.barrier()\n",
    "\n",
    "adder.cx(1,10)\n",
    "adder.cx(4,10)\n",
    "adder.cx(6,10)\n",
    "adder.ccx(1,4,7)\n",
    "adder.ccx(1,6,7)\n",
    "adder.ccx(4,6,7)\n",
    "\n",
    "adder.barrier()\n",
    "\n",
    "adder.cx(0,9)\n",
    "adder.cx(3,9)\n",
    "adder.cx(7,9)\n",
    "\n",
    "adder.ccx(0,3,8)\n",
    "adder.ccx(0,7,8)\n",
    "adder.ccx(3,7,8)\n",
    "\n",
    "\n",
    "#adder.draw(justify='none')"
   ]
  },
  {
   "cell_type": "code",
   "execution_count": 88,
   "id": "c7a3507d-70b1-4b86-8cd3-0012967c67ad",
   "metadata": {
    "tags": []
   },
   "outputs": [
    {
     "data": {
      "text/plain": [
       "<qiskit.circuit.instructionset.InstructionSet at 0x7f89dd245bd0>"
      ]
     },
     "execution_count": 88,
     "metadata": {},
     "output_type": "execute_result"
    }
   ],
   "source": [
    "adderr = QuantumCircuit(13, name='adder_reverse')\n",
    "\n",
    "adderr.ccx(3,7,8)\n",
    "adderr.ccx(0,7,8)\n",
    "adderr.ccx(0,3,8)\n",
    "adderr.cx(7,9)\n",
    "adderr.cx(3,9)\n",
    "adderr.cx(0,9)\n",
    "\n",
    "adderr.ccx(4,6,7)\n",
    "adderr.ccx(1,6,7)\n",
    "adderr.ccx(1,4,7)\n",
    "adderr.cx(6,10)\n",
    "adderr.cx(4,10)\n",
    "adderr.cx(1,10)\n",
    "\n",
    "adderr.ccx(2,5,6)\n",
    "adderr.cx(5,11)\n",
    "adderr.cx(2,11)\n",
    "\n",
    "#adderr.draw()"
   ]
  },
  {
   "cell_type": "code",
   "execution_count": 89,
   "id": "a97e78a6-a542-4282-b6d0-9df3dba15300",
   "metadata": {
    "tags": []
   },
   "outputs": [
    {
     "data": {
      "image/png": "[encoded data removed]",
      "text/plain": [
       "<Figure size 389.338x1120.39 with 1 Axes>"
      ]
     },
     "execution_count": 89,
     "metadata": {},
     "output_type": "execute_result"
    }
   ],
   "source": [
    "oracle = QuantumCircuit(13, name='oracle')\n",
    "\n",
    "oracle.x(8)\n",
    "oracle.x(9)\n",
    "oracle.x(10)\n",
    "#oracle.x(11)\n",
    "\n",
    "oracle.mcx([8,9,10,11],12)\n",
    "\n",
    "oracle.x(8)\n",
    "oracle.x(9)\n",
    "oracle.x(10)\n",
    "#oracle.x(11)\n",
    "\n",
    "\n",
    "oracle.draw()"
   ]
  },
  {
   "cell_type": "code",
   "execution_count": 90,
   "id": "6d7ee521-1484-4ba1-8267-78de50f2a8b0",
   "metadata": {
    "tags": []
   },
   "outputs": [
    {
     "data": {
      "text/plain": [
       "<qiskit.circuit.instructionset.InstructionSet at 0x7f89e3c4be20>"
      ]
     },
     "execution_count": 90,
     "metadata": {},
     "output_type": "execute_result"
    }
   ],
   "source": [
    "diffuser = QuantumCircuit(13, name='diffuser')\n",
    "\n",
    "diffuser.h([0,1,2,3,4,5])\n",
    "diffuser.x([0,1,2,3,4,5])\n",
    "    \n",
    "diffuser.mcx([0,1,2,3,4,5], 12)\n",
    "\n",
    "diffuser.x([0,1,2,3,4,5])   \n",
    "diffuser.h([0,1,2,3,4,5])\n",
    "\n",
    "\n",
    "#diffuser.draw()"
   ]
  },
  {
   "cell_type": "code",
   "execution_count": 91,
   "id": "2242ceb0-61c9-47da-9a26-569f9456f2a3",
   "metadata": {
    "tags": []
   },
   "outputs": [
    {
     "data": {
      "text/plain": [
       "<qiskit.circuit.instructionset.InstructionSet at 0x7f89de3dd0c0>"
      ]
     },
     "execution_count": 91,
     "metadata": {},
     "output_type": "execute_result"
    }
   ],
   "source": [
    "from qiskit import QuantumRegister, ClassicalRegister\n",
    "\n",
    "qr = QuantumRegister(13, 'q')\n",
    "cr = ClassicalRegister(6, 'c')\n",
    "grovercircuit = QuantumCircuit(qr, cr)\n",
    "\n",
    "iterations = 4\n",
    "\n",
    "grovercircuit.x(12)\n",
    "grovercircuit.h(12)\n",
    "\n",
    "grovercircuit.h(0)\n",
    "grovercircuit.h(1)\n",
    "grovercircuit.h(2)\n",
    "grovercircuit.h(3)\n",
    "grovercircuit.h(4)\n",
    "grovercircuit.h(5)\n",
    "\n",
    "grovercircuit.barrier()\n",
    "\n",
    "for i in range(iterations):\n",
    "    grovercircuit.append(adder, [0,1,2,3,4,5,6,7,8,9,10,11,12])\n",
    "    grovercircuit.append(oracle, [0,1,2,3,4,5,6,7,8,9,10,11,12])\n",
    "    grovercircuit.append(adderr, [0,1,2,3,4,5,6,7,8,9,10,11,12])\n",
    "    grovercircuit.append(diffuser, [0,1,2,3,4,5,6,7,8,9,10,11,12])\n",
    "\n",
    "\n",
    "grovercircuit.measure([qr[0], qr[1], qr[2], qr[3], qr[4], qr[5]], [cr[0], cr[1], cr[2], cr[3], cr[4], cr[5]])\n",
    "\n",
    "#grovercircuit.draw()"
   ]
  },
  {
   "cell_type": "code",
   "execution_count": 92,
   "id": "90ccfb8d-cf89-4dea-a8d8-950115f3affd",
   "metadata": {
    "tags": []
   },
   "outputs": [
    {
     "data": {
      "image/png": "[encoded data removed]",
      "text/plain": [
       "<Figure size 1500x750 with 1 Axes>"
      ]
     },
     "execution_count": 92,
     "metadata": {},
     "output_type": "execute_result"
    }
   ],
   "source": [
    "from qiskit import Aer, transpile, execute\n",
    "from qiskit.visualization import plot_histogram\n",
    "\n",
    "backend = Aer.get_backend('qasm_simulator')\n",
    "\n",
    "t_qc = transpile(grovercircuit, backend=backend, optimization_level=3)\n",
    "job = execute(t_qc, backend=backend, shots=2000)\n",
    "result = job.result()\n",
    "counts = result.get_counts()\n",
    "\n",
    "\n",
    "plot_histogram(counts, figsize=(15, 7.5))"
   ]
  },
  {
   "cell_type": "code",
   "execution_count": null,
   "id": "3426d0af-f417-4807-a708-cea2a849f379",
   "metadata": {},
   "outputs": [],
   "source": []
  },
  {
   "cell_type": "code",
   "execution_count": null,
   "id": "a334bba0-e9b7-494e-a4e9-8495a3e1610b",
   "metadata": {},
   "outputs": [],
   "source": []
  }
 ],
 "metadata": {
  "kernelspec": {
   "display_name": "Python 3 (ipykernel)",
   "language": "python",
   "name": "python3"
  },
  "language_info": {
   "codemirror_mode": {
    "name": "ipython",
    "version": 3
   },
   "file_extension": ".py",
   "mimetype": "text/x-python",
   "name": "python",
   "nbconvert_exporter": "python",
   "pygments_lexer": "ipython3",
   "version": "3.10.8"
  },
  "widgets": {
   "application/vnd.jupyter.widget-state+json": {
    "state": {
     "07d1cc7e726147dc9dc6a4dc770e7dbd": {
      "model_module": "@jupyter-widgets/controls",
      "model_module_version": "2.0.0",
      "model_name": "GridBoxModel",
      "state": {
       "children": [
        "IPY_MODEL_db6e45cb30164f57b5420904daee41e0"
       ],
       "layout": "IPY_MODEL_829eb73692a844eaae04340390fbd717"
      }
     },
     "0f402328e3074e1aa2eba01e170b5997": {
      "model_module": "@jupyter-widgets/controls",
      "model_module_version": "2.0.0",
      "model_name": "HTMLStyleModel",
      "state": {
       "description_width": "",
       "font_size": null,
       "text_color": null
      }
     },
     "23ba8df11731409c95bc1c9cc7d8e300": {
      "model_module": "@jupyter-widgets/controls",
      "model_module_version": "2.0.0",
      "model_name": "HTMLStyleModel",
      "state": {
       "description_width": "",
       "font_size": null,
       "text_color": null
      }
     },
     "2889aaf8c039444cbda066e1d0cf1e76": {
      "model_module": "@jupyter-widgets/base",
      "model_module_version": "2.0.0",
      "model_name": "LayoutModel",
      "state": {
       "grid_area": "right",
       "padding": "0px 0px 0px 0px",
       "width": "70px"
      }
     },
     "36c95ad3b7894c229a994f3c79b27941": {
      "model_module": "@jupyter-widgets/base",
      "model_module_version": "2.0.0",
      "model_name": "LayoutModel",
      "state": {}
     },
     "3e0dadca6e464a029d01a15b77b50fe7": {
      "model_module": "@jupyter-widgets/controls",
      "model_module_version": "2.0.0",
      "model_name": "HTMLModel",
      "state": {
       "layout": "IPY_MODEL_da0e5208ddfd4fef953004bc511eabb1",
       "style": "IPY_MODEL_0f402328e3074e1aa2eba01e170b5997",
       "value": "<h5>Backend</h5>"
      }
     },
     "48be2b42fc834dd5b8d8457d872dd3d4": {
      "model_module": "@jupyter-widgets/controls",
      "model_module_version": "2.0.0",
      "model_name": "HTMLStyleModel",
      "state": {
       "description_width": "",
       "font_size": null,
       "text_color": null
      }
     },
     "494ee679c09b47dcb599a3af665e6924": {
      "model_module": "@jupyter-widgets/base",
      "model_module_version": "2.0.0",
      "model_name": "LayoutModel",
      "state": {
       "width": "95px"
      }
     },
     "517e99838885428b828a2dd189dfa11f": {
      "model_module": "@jupyter-widgets/base",
      "model_module_version": "2.0.0",
      "model_name": "LayoutModel",
      "state": {
       "margin": "0px 0px 0px 37px",
       "width": "600px"
      }
     },
     "5ce995f5886f4734b0eaf2b7d3332f21": {
      "model_module": "@jupyter-widgets/controls",
      "model_module_version": "2.0.0",
      "model_name": "HTMLStyleModel",
      "state": {
       "description_width": "",
       "font_size": null,
       "text_color": null
      }
     },
     "674e681e85824169a6d00b445803aec8": {
      "model_module": "@jupyter-widgets/controls",
      "model_module_version": "2.0.0",
      "model_name": "ButtonStyleModel",
      "state": {
       "font_family": null,
       "font_size": null,
       "font_style": null,
       "font_variant": null,
       "font_weight": null,
       "text_color": null,
       "text_decoration": null
      }
     },
     "67d1b2d8d71e411e82179d5c13ec53a5": {
      "model_module": "@jupyter-widgets/controls",
      "model_module_version": "2.0.0",
      "model_name": "HTMLStyleModel",
      "state": {
       "description_width": "",
       "font_size": null,
       "text_color": null
      }
     },
     "775741faa76543acba70cf138152e699": {
      "model_module": "@jupyter-widgets/base",
      "model_module_version": "2.0.0",
      "model_name": "LayoutModel",
      "state": {
       "margin": "0px 0px 10px 0px"
      }
     },
     "829eb73692a844eaae04340390fbd717": {
      "model_module": "@jupyter-widgets/base",
      "model_module_version": "2.0.0",
      "model_name": "LayoutModel",
      "state": {
       "grid_template_areas": "\n                                       \". . . . right \"\n                                        ",
       "grid_template_columns": "20% 20% 20% 20% 20%",
       "width": "100%"
      }
     },
     "9d71da35b73b498f8c22c5117e7f385e": {
      "model_module": "@jupyter-widgets/controls",
      "model_module_version": "2.0.0",
      "model_name": "HTMLStyleModel",
      "state": {
       "description_width": "",
       "font_size": null,
       "text_color": null
      }
     },
     "a01cee0b57e14a2692426a17ce54fb13": {
      "model_module": "@jupyter-widgets/base",
      "model_module_version": "2.0.0",
      "model_name": "LayoutModel",
      "state": {
       "width": "70px"
      }
     },
     "a09928c4fe1b4fc1b034d7436362ba35": {
      "model_module": "@jupyter-widgets/controls",
      "model_module_version": "2.0.0",
      "model_name": "HTMLModel",
      "state": {
       "layout": "IPY_MODEL_775741faa76543acba70cf138152e699",
       "style": "IPY_MODEL_67d1b2d8d71e411e82179d5c13ec53a5",
       "value": "<p style='font-family: IBM Plex Sans, Arial, Helvetica, sans-serif; font-size: 20px; font-weight: medium;'>Circuit Properties</p>"
      }
     },
     "a62883c59e834a9191be03882bc691a4": {
      "model_module": "@jupyter-widgets/controls",
      "model_module_version": "2.0.0",
      "model_name": "HTMLModel",
      "state": {
       "layout": "IPY_MODEL_36c95ad3b7894c229a994f3c79b27941",
       "style": "IPY_MODEL_9d71da35b73b498f8c22c5117e7f385e",
       "value": "<h5>Message</h5>"
      }
     },
     "b8a67abc37f94d4cb9b003854000cb9f": {
      "model_module": "@jupyter-widgets/base",
      "model_module_version": "2.0.0",
      "model_name": "LayoutModel",
      "state": {
       "width": "190px"
      }
     },
     "d6e4292741e24b3789fa3cdf6a04ebeb": {
      "model_module": "@jupyter-widgets/controls",
      "model_module_version": "2.0.0",
      "model_name": "HBoxModel",
      "state": {
       "children": [
        "IPY_MODEL_f231a1d7a2a84aea877ff853c9f15bda",
        "IPY_MODEL_3e0dadca6e464a029d01a15b77b50fe7",
        "IPY_MODEL_f41f9e73d1d64cdf979b2666742b9b5f",
        "IPY_MODEL_e68a7300cd554d2f8b375faf78e353b2",
        "IPY_MODEL_a62883c59e834a9191be03882bc691a4"
       ],
       "layout": "IPY_MODEL_517e99838885428b828a2dd189dfa11f"
      }
     },
     "da0e5208ddfd4fef953004bc511eabb1": {
      "model_module": "@jupyter-widgets/base",
      "model_module_version": "2.0.0",
      "model_name": "LayoutModel",
      "state": {
       "width": "145px"
      }
     },
     "db6e45cb30164f57b5420904daee41e0": {
      "model_module": "@jupyter-widgets/controls",
      "model_module_version": "2.0.0",
      "model_name": "ButtonModel",
      "state": {
       "button_style": "primary",
       "description": "Clear",
       "layout": "IPY_MODEL_2889aaf8c039444cbda066e1d0cf1e76",
       "style": "IPY_MODEL_674e681e85824169a6d00b445803aec8",
       "tooltip": null
      }
     },
     "e68a7300cd554d2f8b375faf78e353b2": {
      "model_module": "@jupyter-widgets/controls",
      "model_module_version": "2.0.0",
      "model_name": "HTMLModel",
      "state": {
       "layout": "IPY_MODEL_a01cee0b57e14a2692426a17ce54fb13",
       "style": "IPY_MODEL_5ce995f5886f4734b0eaf2b7d3332f21",
       "value": "<h5>Queue</h5>"
      }
     },
     "f231a1d7a2a84aea877ff853c9f15bda": {
      "model_module": "@jupyter-widgets/controls",
      "model_module_version": "2.0.0",
      "model_name": "HTMLModel",
      "state": {
       "layout": "IPY_MODEL_b8a67abc37f94d4cb9b003854000cb9f",
       "style": "IPY_MODEL_48be2b42fc834dd5b8d8457d872dd3d4",
       "value": "<h5>Job ID</h5>"
      }
     },
     "f41f9e73d1d64cdf979b2666742b9b5f": {
      "model_module": "@jupyter-widgets/controls",
      "model_module_version": "2.0.0",
      "model_name": "HTMLModel",
      "state": {
       "layout": "IPY_MODEL_494ee679c09b47dcb599a3af665e6924",
       "style": "IPY_MODEL_23ba8df11731409c95bc1c9cc7d8e300",
       "value": "<h5>Status</h5>"
      }
     }
    },
    "version_major": 2,
    "version_minor": 0
   }
  }
 },
 "nbformat": 4,
 "nbformat_minor": 5
}
