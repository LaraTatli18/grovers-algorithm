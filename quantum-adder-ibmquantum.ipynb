{
 "cells": [
  {
   "cell_type": "code",
   "id": "99073b43-173b-4c95-be0e-b24da841405f",
   "metadata": {
    "tags": [],
    "ExecuteTime": {
     "end_time": "2024-08-16T07:52:31.551918Z",
     "start_time": "2024-08-16T07:52:30.670369Z"
    }
   },
   "source": [
    "# Importing standard Qiskit libraries\n",
    "\n",
    "!pip install qiskit qiskit-ibm-runtime\n",
    "!pip install --upgrade qiskit\n",
    "\n",
    "from qiskit import QuantumCircuit, transpile\n",
    "from qiskit.tools.jupyter import *\n",
    "from qiskit.visualization import *\n",
    "from ibm_quantum_widgets import *\n",
    "\n",
    "# qiskit-ibmq-provider has been deprecated.\n",
    "# Please see the Migration Guides in https://ibm.biz/provider_migration_guide for more detail.\n",
    "from qiskit_ibm_runtime import QiskitRuntimeService, Sampler, Estimator, Session, Options\n",
    "\n",
    "# Loading your IBM Quantum account(s)\n",
    "service = QiskitRuntimeService(channel=\"ibm_quantum\")\n",
    "\n",
    "# Invoke a primitive. For more details see https://qiskit.org/documentation/partners/qiskit_ibm_runtime/tutorials.html\n",
    "# result = Sampler(\"ibmq_qasm_simulator\").run(circuits).result()"
   ],
   "outputs": [
    {
     "name": "stdout",
     "output_type": "stream",
     "text": [
      "Requirement already satisfied: bluequbit in ./.venv/lib/python3.12/site-packages (0.8.3b1)\r\n",
      "Requirement already satisfied: requests~=2.28 in ./.venv/lib/python3.12/site-packages (from bluequbit) (2.32.3)\r\n",
      "Requirement already satisfied: python-dateutil~=2.8 in ./.venv/lib/python3.12/site-packages (from bluequbit) (2.9.0.post0)\r\n",
      "Requirement already satisfied: numpy~=1.21 in ./.venv/lib/python3.12/site-packages (from bluequbit) (1.26.4)\r\n",
      "Requirement already satisfied: packaging in ./.venv/lib/python3.12/site-packages (from bluequbit) (24.1)\r\n",
      "Requirement already satisfied: six>=1.5 in ./.venv/lib/python3.12/site-packages (from python-dateutil~=2.8->bluequbit) (1.16.0)\r\n",
      "Requirement already satisfied: charset-normalizer<4,>=2 in ./.venv/lib/python3.12/site-packages (from requests~=2.28->bluequbit) (3.3.2)\r\n",
      "Requirement already satisfied: idna<4,>=2.5 in ./.venv/lib/python3.12/site-packages (from requests~=2.28->bluequbit) (3.7)\r\n",
      "Requirement already satisfied: urllib3<3,>=1.21.1 in ./.venv/lib/python3.12/site-packages (from requests~=2.28->bluequbit) (2.2.2)\r\n",
      "Requirement already satisfied: certifi>=2017.4.17 in ./.venv/lib/python3.12/site-packages (from requests~=2.28->bluequbit) (2024.7.4)\r\n"
     ]
    },
    {
     "ename": "AccountNotFoundError",
     "evalue": "'Unable to find account.'",
     "output_type": "error",
     "traceback": [
      "\u001B[0;31m---------------------------------------------------------------------------\u001B[0m",
      "\u001B[0;31mAccountNotFoundError\u001B[0m                      Traceback (most recent call last)",
      "Cell \u001B[0;32mIn[36], line 16\u001B[0m\n\u001B[1;32m     13\u001B[0m \u001B[38;5;28;01mfrom\u001B[39;00m \u001B[38;5;21;01mqiskit_ibm_runtime\u001B[39;00m \u001B[38;5;28;01mimport\u001B[39;00m QiskitRuntimeService, Sampler, Estimator, Session, Options\n\u001B[1;32m     15\u001B[0m \u001B[38;5;66;03m# Loading your IBM Quantum account(s)\u001B[39;00m\n\u001B[0;32m---> 16\u001B[0m service \u001B[38;5;241m=\u001B[39m \u001B[43mQiskitRuntimeService\u001B[49m\u001B[43m(\u001B[49m\u001B[43mchannel\u001B[49m\u001B[38;5;241;43m=\u001B[39;49m\u001B[38;5;124;43m\"\u001B[39;49m\u001B[38;5;124;43mibm_quantum\u001B[39;49m\u001B[38;5;124;43m\"\u001B[39;49m\u001B[43m)\u001B[49m\n\u001B[1;32m     18\u001B[0m \u001B[38;5;66;03m# Invoke a primitive. For more details see https://qiskit.org/documentation/partners/qiskit_ibm_runtime/tutorials.html\u001B[39;00m\n\u001B[1;32m     19\u001B[0m \u001B[38;5;66;03m# result = Sampler(\"ibmq_qasm_simulator\").run(circuits).result()\u001B[39;00m\n",
      "File \u001B[0;32m~/PycharmProjects/groversAlgorithm/.venv/lib/python3.12/site-packages/qiskit_ibm_runtime/qiskit_runtime_service.py:129\u001B[0m, in \u001B[0;36mQiskitRuntimeService.__init__\u001B[0;34m(self, channel, token, url, filename, name, instance, proxies, verify, channel_strategy, private_endpoint)\u001B[0m\n\u001B[1;32m     82\u001B[0m \u001B[38;5;250m\u001B[39m\u001B[38;5;124;03m\"\"\"QiskitRuntimeService constructor\u001B[39;00m\n\u001B[1;32m     83\u001B[0m \n\u001B[1;32m     84\u001B[0m \u001B[38;5;124;03mAn account is selected in the following order:\u001B[39;00m\n\u001B[0;32m   (...)\u001B[0m\n\u001B[1;32m    125\u001B[0m \u001B[38;5;124;03m    IBMInputValueError: If an input is invalid.\u001B[39;00m\n\u001B[1;32m    126\u001B[0m \u001B[38;5;124;03m\"\"\"\u001B[39;00m\n\u001B[1;32m    127\u001B[0m \u001B[38;5;28msuper\u001B[39m()\u001B[38;5;241m.\u001B[39m\u001B[38;5;21m__init__\u001B[39m()\n\u001B[0;32m--> 129\u001B[0m \u001B[38;5;28mself\u001B[39m\u001B[38;5;241m.\u001B[39m_account \u001B[38;5;241m=\u001B[39m \u001B[38;5;28;43mself\u001B[39;49m\u001B[38;5;241;43m.\u001B[39;49m\u001B[43m_discover_account\u001B[49m\u001B[43m(\u001B[49m\n\u001B[1;32m    130\u001B[0m \u001B[43m    \u001B[49m\u001B[43mtoken\u001B[49m\u001B[38;5;241;43m=\u001B[39;49m\u001B[43mtoken\u001B[49m\u001B[43m,\u001B[49m\n\u001B[1;32m    131\u001B[0m \u001B[43m    \u001B[49m\u001B[43murl\u001B[49m\u001B[38;5;241;43m=\u001B[39;49m\u001B[43murl\u001B[49m\u001B[43m,\u001B[49m\n\u001B[1;32m    132\u001B[0m \u001B[43m    \u001B[49m\u001B[43minstance\u001B[49m\u001B[38;5;241;43m=\u001B[39;49m\u001B[43minstance\u001B[49m\u001B[43m,\u001B[49m\n\u001B[1;32m    133\u001B[0m \u001B[43m    \u001B[49m\u001B[43mchannel\u001B[49m\u001B[38;5;241;43m=\u001B[39;49m\u001B[43mchannel\u001B[49m\u001B[43m,\u001B[49m\n\u001B[1;32m    134\u001B[0m \u001B[43m    \u001B[49m\u001B[43mfilename\u001B[49m\u001B[38;5;241;43m=\u001B[39;49m\u001B[43mfilename\u001B[49m\u001B[43m,\u001B[49m\n\u001B[1;32m    135\u001B[0m \u001B[43m    \u001B[49m\u001B[43mname\u001B[49m\u001B[38;5;241;43m=\u001B[39;49m\u001B[43mname\u001B[49m\u001B[43m,\u001B[49m\n\u001B[1;32m    136\u001B[0m \u001B[43m    \u001B[49m\u001B[43mproxies\u001B[49m\u001B[38;5;241;43m=\u001B[39;49m\u001B[43mProxyConfiguration\u001B[49m\u001B[43m(\u001B[49m\u001B[38;5;241;43m*\u001B[39;49m\u001B[38;5;241;43m*\u001B[39;49m\u001B[43mproxies\u001B[49m\u001B[43m)\u001B[49m\u001B[43m \u001B[49m\u001B[38;5;28;43;01mif\u001B[39;49;00m\u001B[43m \u001B[49m\u001B[43mproxies\u001B[49m\u001B[43m \u001B[49m\u001B[38;5;28;43;01melse\u001B[39;49;00m\u001B[43m \u001B[49m\u001B[38;5;28;43;01mNone\u001B[39;49;00m\u001B[43m,\u001B[49m\n\u001B[1;32m    137\u001B[0m \u001B[43m    \u001B[49m\u001B[43mverify\u001B[49m\u001B[38;5;241;43m=\u001B[39;49m\u001B[43mverify\u001B[49m\u001B[43m,\u001B[49m\n\u001B[1;32m    138\u001B[0m \u001B[43m    \u001B[49m\u001B[43mchannel_strategy\u001B[49m\u001B[38;5;241;43m=\u001B[39;49m\u001B[43mchannel_strategy\u001B[49m\u001B[43m,\u001B[49m\n\u001B[1;32m    139\u001B[0m \u001B[43m\u001B[49m\u001B[43m)\u001B[49m\n\u001B[1;32m    141\u001B[0m \u001B[38;5;28;01mif\u001B[39;00m private_endpoint \u001B[38;5;129;01mis\u001B[39;00m \u001B[38;5;129;01mnot\u001B[39;00m \u001B[38;5;28;01mNone\u001B[39;00m:\n\u001B[1;32m    142\u001B[0m     \u001B[38;5;28mself\u001B[39m\u001B[38;5;241m.\u001B[39m_account\u001B[38;5;241m.\u001B[39mprivate_endpoint \u001B[38;5;241m=\u001B[39m private_endpoint\n",
      "File \u001B[0;32m~/PycharmProjects/groversAlgorithm/.venv/lib/python3.12/site-packages/qiskit_ibm_runtime/qiskit_runtime_service.py:241\u001B[0m, in \u001B[0;36mQiskitRuntimeService._discover_account\u001B[0;34m(self, token, url, instance, channel, filename, name, proxies, verify, channel_strategy)\u001B[0m\n\u001B[1;32m    239\u001B[0m         \u001B[38;5;28;01mif\u001B[39;00m url:\n\u001B[1;32m    240\u001B[0m             logger\u001B[38;5;241m.\u001B[39mwarning(\u001B[38;5;124m\"\u001B[39m\u001B[38;5;124mLoading default \u001B[39m\u001B[38;5;132;01m%s\u001B[39;00m\u001B[38;5;124m account. Input \u001B[39m\u001B[38;5;124m'\u001B[39m\u001B[38;5;124murl\u001B[39m\u001B[38;5;124m'\u001B[39m\u001B[38;5;124m is ignored.\u001B[39m\u001B[38;5;124m\"\u001B[39m, channel)\n\u001B[0;32m--> 241\u001B[0m         account \u001B[38;5;241m=\u001B[39m \u001B[43mAccountManager\u001B[49m\u001B[38;5;241;43m.\u001B[39;49m\u001B[43mget\u001B[49m\u001B[43m(\u001B[49m\u001B[43mfilename\u001B[49m\u001B[38;5;241;43m=\u001B[39;49m\u001B[43mfilename\u001B[49m\u001B[43m,\u001B[49m\u001B[43m \u001B[49m\u001B[43mname\u001B[49m\u001B[38;5;241;43m=\u001B[39;49m\u001B[43mname\u001B[49m\u001B[43m,\u001B[49m\u001B[43m \u001B[49m\u001B[43mchannel\u001B[49m\u001B[38;5;241;43m=\u001B[39;49m\u001B[43mchannel\u001B[49m\u001B[43m)\u001B[49m\n\u001B[1;32m    242\u001B[0m \u001B[38;5;28;01melif\u001B[39;00m \u001B[38;5;28many\u001B[39m([token, url]):\n\u001B[1;32m    243\u001B[0m     \u001B[38;5;66;03m# Let's not infer based on these attributes as they may change in the future.\u001B[39;00m\n\u001B[1;32m    244\u001B[0m     \u001B[38;5;28;01mraise\u001B[39;00m \u001B[38;5;167;01mValueError\u001B[39;00m(\n\u001B[1;32m    245\u001B[0m         \u001B[38;5;124m\"\u001B[39m\u001B[38;5;124m'\u001B[39m\u001B[38;5;124mchannel\u001B[39m\u001B[38;5;124m'\u001B[39m\u001B[38;5;124m is required if \u001B[39m\u001B[38;5;124m'\u001B[39m\u001B[38;5;124mtoken\u001B[39m\u001B[38;5;124m'\u001B[39m\u001B[38;5;124m, or \u001B[39m\u001B[38;5;124m'\u001B[39m\u001B[38;5;124murl\u001B[39m\u001B[38;5;124m'\u001B[39m\u001B[38;5;124m is specified but \u001B[39m\u001B[38;5;124m'\u001B[39m\u001B[38;5;124mname\u001B[39m\u001B[38;5;124m'\u001B[39m\u001B[38;5;124m is not.\u001B[39m\u001B[38;5;124m\"\u001B[39m\n\u001B[1;32m    246\u001B[0m     )\n",
      "File \u001B[0;32m~/PycharmProjects/groversAlgorithm/.venv/lib/python3.12/site-packages/qiskit_ibm_runtime/accounts/management.py:197\u001B[0m, in \u001B[0;36mAccountManager.get\u001B[0;34m(cls, filename, name, channel)\u001B[0m\n\u001B[1;32m    194\u001B[0m     \u001B[38;5;28;01mif\u001B[39;00m account_name \u001B[38;5;129;01min\u001B[39;00m all_config:\n\u001B[1;32m    195\u001B[0m         \u001B[38;5;28;01mreturn\u001B[39;00m Account\u001B[38;5;241m.\u001B[39mfrom_saved_format(all_config[account_name])\n\u001B[0;32m--> 197\u001B[0m \u001B[38;5;28;01mraise\u001B[39;00m AccountNotFoundError(\u001B[38;5;124m\"\u001B[39m\u001B[38;5;124mUnable to find account.\u001B[39m\u001B[38;5;124m\"\u001B[39m)\n",
      "\u001B[0;31mAccountNotFoundError\u001B[0m: 'Unable to find account.'"
     ]
    }
   ],
   "execution_count": 36
  },
  {
   "cell_type": "code",
   "id": "3d4d7a26-e471-44bb-9a57-5001d54cfbc6",
   "metadata": {
    "tags": [],
    "ExecuteTime": {
     "end_time": "2024-08-16T07:52:32.250332Z",
     "start_time": "2024-08-16T07:52:32.232262Z"
    }
   },
   "source": [
    "adder = QuantumCircuit(13, name='adder')\n",
    "\n",
    "adder.cx(2,11)\n",
    "adder.cx(5,11)\n",
    "adder.ccx(2,5,6)\n",
    "\n",
    "adder.barrier()\n",
    "\n",
    "adder.cx(1,10)\n",
    "adder.cx(4,10)\n",
    "adder.cx(6,10)\n",
    "adder.ccx(1,4,7)\n",
    "adder.ccx(1,6,7)\n",
    "adder.ccx(4,6,7)\n",
    "\n",
    "adder.barrier()\n",
    "\n",
    "adder.cx(0,9)\n",
    "adder.cx(3,9)\n",
    "adder.cx(7,9)\n",
    "\n",
    "adder.ccx(0,3,8)\n",
    "adder.ccx(0,7,8)\n",
    "adder.ccx(3,7,8)\n",
    "\n",
    "\n",
    "adder.draw(justify='none')"
   ],
   "outputs": [
    {
     "data": {
      "text/plain": [
       "                      ░                                ░                     »\n",
       " q_0: ────────────────░────────────────────────────────░───■─────────■───────»\n",
       "                      ░                                ░   │         │       »\n",
       " q_1: ────────────────░───■─────────■─────────■────────░───┼─────────┼───────»\n",
       "                      ░   │         │         │        ░   │         │       »\n",
       " q_2: ──■─────────■───░───┼─────────┼─────────┼────────░───┼─────────┼───────»\n",
       "        │         │   ░   │         │         │        ░   │         │       »\n",
       " q_3: ──┼─────────┼───░───┼─────────┼─────────┼────────░───┼────■────■───────»\n",
       "        │         │   ░   │         │         │        ░   │    │    │       »\n",
       " q_4: ──┼─────────┼───░───┼────■────■─────────┼────■───░───┼────┼────┼───────»\n",
       "        │         │   ░   │    │    │         │    │   ░   │    │    │       »\n",
       " q_5: ──┼────■────■───░───┼────┼────┼─────────┼────┼───░───┼────┼────┼───────»\n",
       "        │    │  ┌─┴─┐ ░   │    │    │         │    │   ░   │    │    │       »\n",
       " q_6: ──┼────┼──┤ X ├─░───┼────┼────┼────■────■────■───░───┼────┼────┼───────»\n",
       "        │    │  └───┘ ░   │    │  ┌─┴─┐  │  ┌─┴─┐┌─┴─┐ ░   │    │    │       »\n",
       " q_7: ──┼────┼────────░───┼────┼──┤ X ├──┼──┤ X ├┤ X ├─░───┼────┼────┼────■──»\n",
       "        │    │        ░   │    │  └───┘  │  └───┘└───┘ ░   │    │  ┌─┴─┐  │  »\n",
       " q_8: ──┼────┼────────░───┼────┼─────────┼─────────────░───┼────┼──┤ X ├──┼──»\n",
       "        │    │        ░   │    │         │             ░ ┌─┴─┐┌─┴─┐└───┘┌─┴─┐»\n",
       " q_9: ──┼────┼────────░───┼────┼─────────┼─────────────░─┤ X ├┤ X ├─────┤ X ├»\n",
       "        │    │        ░ ┌─┴─┐┌─┴─┐     ┌─┴─┐           ░ └───┘└───┘     └───┘»\n",
       "q_10: ──┼────┼────────░─┤ X ├┤ X ├─────┤ X ├───────────░─────────────────────»\n",
       "      ┌─┴─┐┌─┴─┐      ░ └───┘└───┘     └───┘           ░                     »\n",
       "q_11: ┤ X ├┤ X ├──────░────────────────────────────────░─────────────────────»\n",
       "      └───┘└───┘      ░                                ░                     »\n",
       "q_12: ────────────────░────────────────────────────────░─────────────────────»\n",
       "                      ░                                ░                     »\n",
       "«                \n",
       "« q_0: ──■───────\n",
       "«        │       \n",
       "« q_1: ──┼───────\n",
       "«        │       \n",
       "« q_2: ──┼───────\n",
       "«        │       \n",
       "« q_3: ──┼────■──\n",
       "«        │    │  \n",
       "« q_4: ──┼────┼──\n",
       "«        │    │  \n",
       "« q_5: ──┼────┼──\n",
       "«        │    │  \n",
       "« q_6: ──┼────┼──\n",
       "«        │    │  \n",
       "« q_7: ──■────■──\n",
       "«      ┌─┴─┐┌─┴─┐\n",
       "« q_8: ┤ X ├┤ X ├\n",
       "«      └───┘└───┘\n",
       "« q_9: ──────────\n",
       "«                \n",
       "«q_10: ──────────\n",
       "«                \n",
       "«q_11: ──────────\n",
       "«                \n",
       "«q_12: ──────────\n",
       "«                "
      ],
      "text/html": [
       "<pre style=\"word-wrap: normal;white-space: pre;background: #fff0;line-height: 1.1;font-family: &quot;Courier New&quot;,Courier,monospace\">                      ░                                ░                     »\n",
       " q_0: ────────────────░────────────────────────────────░───■─────────■───────»\n",
       "                      ░                                ░   │         │       »\n",
       " q_1: ────────────────░───■─────────■─────────■────────░───┼─────────┼───────»\n",
       "                      ░   │         │         │        ░   │         │       »\n",
       " q_2: ──■─────────■───░───┼─────────┼─────────┼────────░───┼─────────┼───────»\n",
       "        │         │   ░   │         │         │        ░   │         │       »\n",
       " q_3: ──┼─────────┼───░───┼─────────┼─────────┼────────░───┼────■────■───────»\n",
       "        │         │   ░   │         │         │        ░   │    │    │       »\n",
       " q_4: ──┼─────────┼───░───┼────■────■─────────┼────■───░───┼────┼────┼───────»\n",
       "        │         │   ░   │    │    │         │    │   ░   │    │    │       »\n",
       " q_5: ──┼────■────■───░───┼────┼────┼─────────┼────┼───░───┼────┼────┼───────»\n",
       "        │    │  ┌─┴─┐ ░   │    │    │         │    │   ░   │    │    │       »\n",
       " q_6: ──┼────┼──┤ X ├─░───┼────┼────┼────■────■────■───░───┼────┼────┼───────»\n",
       "        │    │  └───┘ ░   │    │  ┌─┴─┐  │  ┌─┴─┐┌─┴─┐ ░   │    │    │       »\n",
       " q_7: ──┼────┼────────░───┼────┼──┤ X ├──┼──┤ X ├┤ X ├─░───┼────┼────┼────■──»\n",
       "        │    │        ░   │    │  └───┘  │  └───┘└───┘ ░   │    │  ┌─┴─┐  │  »\n",
       " q_8: ──┼────┼────────░───┼────┼─────────┼─────────────░───┼────┼──┤ X ├──┼──»\n",
       "        │    │        ░   │    │         │             ░ ┌─┴─┐┌─┴─┐└───┘┌─┴─┐»\n",
       " q_9: ──┼────┼────────░───┼────┼─────────┼─────────────░─┤ X ├┤ X ├─────┤ X ├»\n",
       "        │    │        ░ ┌─┴─┐┌─┴─┐     ┌─┴─┐           ░ └───┘└───┘     └───┘»\n",
       "q_10: ──┼────┼────────░─┤ X ├┤ X ├─────┤ X ├───────────░─────────────────────»\n",
       "      ┌─┴─┐┌─┴─┐      ░ └───┘└───┘     └───┘           ░                     »\n",
       "q_11: ┤ X ├┤ X ├──────░────────────────────────────────░─────────────────────»\n",
       "      └───┘└───┘      ░                                ░                     »\n",
       "q_12: ────────────────░────────────────────────────────░─────────────────────»\n",
       "                      ░                                ░                     »\n",
       "«                \n",
       "« q_0: ──■───────\n",
       "«        │       \n",
       "« q_1: ──┼───────\n",
       "«        │       \n",
       "« q_2: ──┼───────\n",
       "«        │       \n",
       "« q_3: ──┼────■──\n",
       "«        │    │  \n",
       "« q_4: ──┼────┼──\n",
       "«        │    │  \n",
       "« q_5: ──┼────┼──\n",
       "«        │    │  \n",
       "« q_6: ──┼────┼──\n",
       "«        │    │  \n",
       "« q_7: ──■────■──\n",
       "«      ┌─┴─┐┌─┴─┐\n",
       "« q_8: ┤ X ├┤ X ├\n",
       "«      └───┘└───┘\n",
       "« q_9: ──────────\n",
       "«                \n",
       "«q_10: ──────────\n",
       "«                \n",
       "«q_11: ──────────\n",
       "«                \n",
       "«q_12: ──────────\n",
       "«                </pre>"
      ]
     },
     "execution_count": 37,
     "metadata": {},
     "output_type": "execute_result"
    }
   ],
   "execution_count": 37
  },
  {
   "cell_type": "code",
   "id": "c7a3507d-70b1-4b86-8cd3-0012967c67ad",
   "metadata": {
    "tags": [],
    "ExecuteTime": {
     "end_time": "2024-08-16T07:52:32.816818Z",
     "start_time": "2024-08-16T07:52:32.809181Z"
    }
   },
   "source": [
    "adderr = QuantumCircuit(13, name='adder_reverse')\n",
    "\n",
    "adderr.ccx(3,7,8)\n",
    "adderr.ccx(0,7,8)\n",
    "adderr.ccx(0,3,8)\n",
    "adderr.cx(7,9)\n",
    "adderr.cx(3,9)\n",
    "adderr.cx(0,9)\n",
    "\n",
    "adderr.ccx(4,6,7)\n",
    "adderr.ccx(1,6,7)\n",
    "adderr.ccx(1,4,7)\n",
    "adderr.cx(6,10)\n",
    "adderr.cx(4,10)\n",
    "adderr.cx(1,10)\n",
    "\n",
    "adderr.ccx(2,5,6)\n",
    "adderr.cx(5,11)\n",
    "adderr.cx(2,11)\n",
    "\n",
    "#adderr.draw()"
   ],
   "outputs": [
    {
     "data": {
      "text/plain": [
       "<qiskit.circuit.instructionset.InstructionSet at 0x15e85fc10>"
      ]
     },
     "execution_count": 38,
     "metadata": {},
     "output_type": "execute_result"
    }
   ],
   "execution_count": 38
  },
  {
   "cell_type": "code",
   "id": "a97e78a6-a542-4282-b6d0-9df3dba15300",
   "metadata": {
    "tags": [],
    "ExecuteTime": {
     "end_time": "2024-08-16T07:52:33.736753Z",
     "start_time": "2024-08-16T07:52:33.728130Z"
    }
   },
   "source": [
    "oracle = QuantumCircuit(13, name='oracle')\n",
    "\n",
    "oracle.x(8)\n",
    "#oracle.x(9)\n",
    "oracle.x(10)\n",
    "#oracle.x(11)\n",
    "\n",
    "oracle.mcx([8,9,10,11],12)\n",
    "\n",
    "oracle.x(8)\n",
    "#oracle.x(9)\n",
    "oracle.x(10)\n",
    "#oracle.x(11)\n",
    "\n",
    "\n",
    "oracle.draw()"
   ],
   "outputs": [
    {
     "data": {
      "text/plain": [
       "                     \n",
       " q_0: ───────────────\n",
       "                     \n",
       " q_1: ───────────────\n",
       "                     \n",
       " q_2: ───────────────\n",
       "                     \n",
       " q_3: ───────────────\n",
       "                     \n",
       " q_4: ───────────────\n",
       "                     \n",
       " q_5: ───────────────\n",
       "                     \n",
       " q_6: ───────────────\n",
       "                     \n",
       " q_7: ───────────────\n",
       "      ┌───┐     ┌───┐\n",
       " q_8: ┤ X ├──■──┤ X ├\n",
       "      └───┘  │  └───┘\n",
       " q_9: ───────■───────\n",
       "      ┌───┐  │  ┌───┐\n",
       "q_10: ┤ X ├──■──┤ X ├\n",
       "      └───┘  │  └───┘\n",
       "q_11: ───────■───────\n",
       "           ┌─┴─┐     \n",
       "q_12: ─────┤ X ├─────\n",
       "           └───┘     "
      ],
      "text/html": [
       "<pre style=\"word-wrap: normal;white-space: pre;background: #fff0;line-height: 1.1;font-family: &quot;Courier New&quot;,Courier,monospace\">                     \n",
       " q_0: ───────────────\n",
       "                     \n",
       " q_1: ───────────────\n",
       "                     \n",
       " q_2: ───────────────\n",
       "                     \n",
       " q_3: ───────────────\n",
       "                     \n",
       " q_4: ───────────────\n",
       "                     \n",
       " q_5: ───────────────\n",
       "                     \n",
       " q_6: ───────────────\n",
       "                     \n",
       " q_7: ───────────────\n",
       "      ┌───┐     ┌───┐\n",
       " q_8: ┤ X ├──■──┤ X ├\n",
       "      └───┘  │  └───┘\n",
       " q_9: ───────■───────\n",
       "      ┌───┐  │  ┌───┐\n",
       "q_10: ┤ X ├──■──┤ X ├\n",
       "      └───┘  │  └───┘\n",
       "q_11: ───────■───────\n",
       "           ┌─┴─┐     \n",
       "q_12: ─────┤ X ├─────\n",
       "           └───┘     </pre>"
      ]
     },
     "execution_count": 39,
     "metadata": {},
     "output_type": "execute_result"
    }
   ],
   "execution_count": 39
  },
  {
   "cell_type": "code",
   "id": "6d7ee521-1484-4ba1-8267-78de50f2a8b0",
   "metadata": {
    "tags": [],
    "ExecuteTime": {
     "end_time": "2024-08-16T07:52:34.408638Z",
     "start_time": "2024-08-16T07:52:34.403771Z"
    }
   },
   "source": [
    "diffuser = QuantumCircuit(13, name='diffuser')\n",
    "\n",
    "diffuser.h([0,1,2,3,4,5])\n",
    "diffuser.x([0,1,2,3,4,5])\n",
    "    \n",
    "diffuser.mcx([0,1,2,3,4,5], 12)\n",
    "\n",
    "diffuser.x([0,1,2,3,4,5])   \n",
    "diffuser.h([0,1,2,3,4,5])\n",
    "\n",
    "\n",
    "#diffuser.draw()"
   ],
   "outputs": [
    {
     "data": {
      "text/plain": [
       "<qiskit.circuit.instructionset.InstructionSet at 0x15ebd4220>"
      ]
     },
     "execution_count": 40,
     "metadata": {},
     "output_type": "execute_result"
    }
   ],
   "execution_count": 40
  },
  {
   "cell_type": "code",
   "id": "2242ceb0-61c9-47da-9a26-569f9456f2a3",
   "metadata": {
    "tags": [],
    "ExecuteTime": {
     "end_time": "2024-08-16T07:52:35.103319Z",
     "start_time": "2024-08-16T07:52:35.092707Z"
    }
   },
   "source": [
    "from qiskit import QuantumRegister, ClassicalRegister\n",
    "\n",
    "qr = QuantumRegister(13, 'q')\n",
    "cr = ClassicalRegister(6, 'c')\n",
    "grovercircuit = QuantumCircuit(qr, cr)\n",
    "\n",
    "iterations = 4\n",
    "\n",
    "grovercircuit.x(12)\n",
    "grovercircuit.h(12)\n",
    "\n",
    "grovercircuit.h(0)\n",
    "grovercircuit.h(1)\n",
    "grovercircuit.h(2)\n",
    "grovercircuit.h(3)\n",
    "grovercircuit.h(4)\n",
    "grovercircuit.h(5)\n",
    "\n",
    "grovercircuit.barrier()\n",
    "\n",
    "for i in range(iterations):\n",
    "    grovercircuit.append(adder, [0,1,2,3,4,5,6,7,8,9,10,11,12])\n",
    "    grovercircuit.append(oracle, [0,1,2,3,4,5,6,7,8,9,10,11,12])\n",
    "    grovercircuit.append(adderr, [0,1,2,3,4,5,6,7,8,9,10,11,12])\n",
    "    grovercircuit.append(diffuser, [0,1,2,3,4,5,6,7,8,9,10,11,12])\n",
    "\n",
    "\n",
    "grovercircuit.measure([qr[0], qr[1], qr[2], qr[3], qr[4], qr[5]], [cr[0], cr[1], cr[2], cr[3], cr[4], cr[5]])\n",
    "\n",
    "#grovercircuit.draw()"
   ],
   "outputs": [
    {
     "data": {
      "text/plain": [
       "<qiskit.circuit.instructionset.InstructionSet at 0x15e81aad0>"
      ]
     },
     "execution_count": 41,
     "metadata": {},
     "output_type": "execute_result"
    }
   ],
   "execution_count": 41
  },
  {
   "cell_type": "code",
   "id": "90ccfb8d-cf89-4dea-a8d8-950115f3affd",
   "metadata": {
    "tags": [],
    "ExecuteTime": {
     "end_time": "2024-08-16T07:27:56.307607Z",
     "start_time": "2024-08-16T07:27:56.263773Z"
    }
   },
   "source": [
    "from qiskit import Aer, transpile, execute\n",
    "from qiskit.visualization import plot_histogram\n",
    "\n",
    "backend = Aer.get_backend('qasm_simulator')\n",
    "\n",
    "t_qc = transpile(grovercircuit, backend=backend, optimization_level=3)\n",
    "job = execute(t_qc, backend=backend, shots=2000)\n",
    "result = job.result()\n",
    "counts = result.get_counts()\n",
    "\n",
    "\n",
    "plot_histogram(counts, figsize=(15, 7.5))"
   ],
   "outputs": [
    {
     "ename": "ImportError",
     "evalue": "cannot import name 'Aer' from 'qiskit' (/Users/laratatli/PycharmProjects/groversAlgorithm/.venv/lib/python3.12/site-packages/qiskit/__init__.py)",
     "output_type": "error",
     "traceback": [
      "\u001B[0;31m---------------------------------------------------------------------------\u001B[0m",
      "\u001B[0;31mImportError\u001B[0m                               Traceback (most recent call last)",
      "Cell \u001B[0;32mIn[33], line 1\u001B[0m\n\u001B[0;32m----> 1\u001B[0m \u001B[38;5;28;01mfrom\u001B[39;00m \u001B[38;5;21;01mqiskit\u001B[39;00m \u001B[38;5;28;01mimport\u001B[39;00m Aer, transpile, execute\n\u001B[1;32m      2\u001B[0m \u001B[38;5;28;01mfrom\u001B[39;00m \u001B[38;5;21;01mqiskit\u001B[39;00m\u001B[38;5;21;01m.\u001B[39;00m\u001B[38;5;21;01mvisualization\u001B[39;00m \u001B[38;5;28;01mimport\u001B[39;00m plot_histogram\n\u001B[1;32m      4\u001B[0m backend \u001B[38;5;241m=\u001B[39m Aer\u001B[38;5;241m.\u001B[39mget_backend(\u001B[38;5;124m'\u001B[39m\u001B[38;5;124mqasm_simulator\u001B[39m\u001B[38;5;124m'\u001B[39m)\n",
      "\u001B[0;31mImportError\u001B[0m: cannot import name 'Aer' from 'qiskit' (/Users/laratatli/PycharmProjects/groversAlgorithm/.venv/lib/python3.12/site-packages/qiskit/__init__.py)"
     ]
    }
   ],
   "execution_count": 33
  },
  {
   "cell_type": "code",
   "id": "3426d0af-f417-4807-a708-cea2a849f379",
   "metadata": {
    "ExecuteTime": {
     "end_time": "2024-08-16T08:08:16.255972Z",
     "start_time": "2024-08-16T08:08:16.254480Z"
    }
   },
   "source": "",
   "outputs": [],
   "execution_count": null
  },
  {
   "cell_type": "code",
   "id": "a334bba0-e9b7-494e-a4e9-8495a3e1610b",
   "metadata": {
    "ExecuteTime": {
     "end_time": "2024-08-16T08:00:32.718754Z",
     "start_time": "2024-08-16T08:00:31.136090Z"
    }
   },
   "source": "",
   "outputs": [
    {
     "ename": "ImportError",
     "evalue": "cannot import name 'broadcast_to' from 'numpy.lib.stride_tricks' (/Users/laratatli/PycharmProjects/groversAlgorithm/.venv/lib/python3.12/site-packages/numpy/lib/stride_tricks.py)",
     "output_type": "error",
     "traceback": [
      "\u001B[0;31m---------------------------------------------------------------------------\u001B[0m",
      "\u001B[0;31mImportError\u001B[0m                               Traceback (most recent call last)",
      "Cell \u001B[0;32mIn[44], line 1\u001B[0m\n\u001B[0;32m----> 1\u001B[0m \u001B[38;5;28;01mimport\u001B[39;00m \u001B[38;5;21;01mmatplotlib\u001B[39;00m\u001B[38;5;21;01m.\u001B[39;00m\u001B[38;5;21;01mpyplot\u001B[39;00m \u001B[38;5;28;01mas\u001B[39;00m \u001B[38;5;21;01mplt\u001B[39;00m\n\u001B[1;32m      3\u001B[0m data \u001B[38;5;241m=\u001B[39m result\u001B[38;5;241m.\u001B[39mget_counts()\n\u001B[1;32m      5\u001B[0m states \u001B[38;5;241m=\u001B[39m \u001B[38;5;28mlist\u001B[39m(data\u001B[38;5;241m.\u001B[39mkeys())\n",
      "File \u001B[0;32m~/PycharmProjects/groversAlgorithm/.venv/lib/python3.12/site-packages/matplotlib/__init__.py:967\u001B[0m\n\u001B[1;32m    961\u001B[0m     \u001B[38;5;28;01mreturn\u001B[39;00m config\n\u001B[1;32m    964\u001B[0m \u001B[38;5;66;03m# When constructing the global instances, we need to perform certain updates\u001B[39;00m\n\u001B[1;32m    965\u001B[0m \u001B[38;5;66;03m# by explicitly calling the superclass (dict.update, dict.items) to avoid\u001B[39;00m\n\u001B[1;32m    966\u001B[0m \u001B[38;5;66;03m# triggering resolution of _auto_backend_sentinel.\u001B[39;00m\n\u001B[0;32m--> 967\u001B[0m rcParamsDefault \u001B[38;5;241m=\u001B[39m \u001B[43m_rc_params_in_file\u001B[49m\u001B[43m(\u001B[49m\n\u001B[1;32m    968\u001B[0m \u001B[43m    \u001B[49m\u001B[43mcbook\u001B[49m\u001B[38;5;241;43m.\u001B[39;49m\u001B[43m_get_data_path\u001B[49m\u001B[43m(\u001B[49m\u001B[38;5;124;43m\"\u001B[39;49m\u001B[38;5;124;43mmatplotlibrc\u001B[39;49m\u001B[38;5;124;43m\"\u001B[39;49m\u001B[43m)\u001B[49m\u001B[43m,\u001B[49m\n\u001B[1;32m    969\u001B[0m \u001B[43m    \u001B[49m\u001B[38;5;66;43;03m# Strip leading comment.\u001B[39;49;00m\n\u001B[1;32m    970\u001B[0m \u001B[43m    \u001B[49m\u001B[43mtransform\u001B[49m\u001B[38;5;241;43m=\u001B[39;49m\u001B[38;5;28;43;01mlambda\u001B[39;49;00m\u001B[43m \u001B[49m\u001B[43mline\u001B[49m\u001B[43m:\u001B[49m\u001B[43m \u001B[49m\u001B[43mline\u001B[49m\u001B[43m[\u001B[49m\u001B[38;5;241;43m1\u001B[39;49m\u001B[43m:\u001B[49m\u001B[43m]\u001B[49m\u001B[43m \u001B[49m\u001B[38;5;28;43;01mif\u001B[39;49;00m\u001B[43m \u001B[49m\u001B[43mline\u001B[49m\u001B[38;5;241;43m.\u001B[39;49m\u001B[43mstartswith\u001B[49m\u001B[43m(\u001B[49m\u001B[38;5;124;43m\"\u001B[39;49m\u001B[38;5;124;43m#\u001B[39;49m\u001B[38;5;124;43m\"\u001B[39;49m\u001B[43m)\u001B[49m\u001B[43m \u001B[49m\u001B[38;5;28;43;01melse\u001B[39;49;00m\u001B[43m \u001B[49m\u001B[43mline\u001B[49m\u001B[43m,\u001B[49m\n\u001B[1;32m    971\u001B[0m \u001B[43m    \u001B[49m\u001B[43mfail_on_error\u001B[49m\u001B[38;5;241;43m=\u001B[39;49m\u001B[38;5;28;43;01mTrue\u001B[39;49;00m\u001B[43m)\u001B[49m\n\u001B[1;32m    972\u001B[0m \u001B[38;5;28mdict\u001B[39m\u001B[38;5;241m.\u001B[39mupdate(rcParamsDefault, rcsetup\u001B[38;5;241m.\u001B[39m_hardcoded_defaults)\n\u001B[1;32m    973\u001B[0m \u001B[38;5;66;03m# Normally, the default matplotlibrc file contains *no* entry for backend (the\u001B[39;00m\n\u001B[1;32m    974\u001B[0m \u001B[38;5;66;03m# corresponding line starts with ##, not #; we fill on _auto_backend_sentinel\u001B[39;00m\n\u001B[1;32m    975\u001B[0m \u001B[38;5;66;03m# in that case.  However, packagers can set a different default backend\u001B[39;00m\n\u001B[1;32m    976\u001B[0m \u001B[38;5;66;03m# (resulting in a normal `#backend: foo` line) in which case we should *not*\u001B[39;00m\n\u001B[1;32m    977\u001B[0m \u001B[38;5;66;03m# fill in _auto_backend_sentinel.\u001B[39;00m\n",
      "File \u001B[0;32m~/PycharmProjects/groversAlgorithm/.venv/lib/python3.12/site-packages/matplotlib/__init__.py:901\u001B[0m, in \u001B[0;36m_rc_params_in_file\u001B[0;34m(fname, transform, fail_on_error)\u001B[0m\n\u001B[1;32m    899\u001B[0m \u001B[38;5;28;01mif\u001B[39;00m key \u001B[38;5;129;01min\u001B[39;00m rcsetup\u001B[38;5;241m.\u001B[39m_validators:\n\u001B[1;32m    900\u001B[0m     \u001B[38;5;28;01mif\u001B[39;00m fail_on_error:\n\u001B[0;32m--> 901\u001B[0m         \u001B[43mconfig\u001B[49m\u001B[43m[\u001B[49m\u001B[43mkey\u001B[49m\u001B[43m]\u001B[49m \u001B[38;5;241m=\u001B[39m val  \u001B[38;5;66;03m# try to convert to proper type or raise\u001B[39;00m\n\u001B[1;32m    902\u001B[0m     \u001B[38;5;28;01melse\u001B[39;00m:\n\u001B[1;32m    903\u001B[0m         \u001B[38;5;28;01mtry\u001B[39;00m:\n",
      "File \u001B[0;32m~/PycharmProjects/groversAlgorithm/.venv/lib/python3.12/site-packages/matplotlib/__init__.py:736\u001B[0m, in \u001B[0;36mRcParams.__setitem__\u001B[0;34m(self, key, val)\u001B[0m\n\u001B[1;32m    734\u001B[0m             \u001B[38;5;28;01mreturn\u001B[39;00m\n\u001B[1;32m    735\u001B[0m \u001B[38;5;28;01mtry\u001B[39;00m:\n\u001B[0;32m--> 736\u001B[0m     cval \u001B[38;5;241m=\u001B[39m \u001B[38;5;28;43mself\u001B[39;49m\u001B[38;5;241;43m.\u001B[39;49m\u001B[43mvalidate\u001B[49m\u001B[43m[\u001B[49m\u001B[43mkey\u001B[49m\u001B[43m]\u001B[49m\u001B[43m(\u001B[49m\u001B[43mval\u001B[49m\u001B[43m)\u001B[49m\n\u001B[1;32m    737\u001B[0m \u001B[38;5;28;01mexcept\u001B[39;00m \u001B[38;5;167;01mValueError\u001B[39;00m \u001B[38;5;28;01mas\u001B[39;00m ve:\n\u001B[1;32m    738\u001B[0m     \u001B[38;5;28;01mraise\u001B[39;00m \u001B[38;5;167;01mValueError\u001B[39;00m(\u001B[38;5;124mf\u001B[39m\u001B[38;5;124m\"\u001B[39m\u001B[38;5;124mKey \u001B[39m\u001B[38;5;132;01m{\u001B[39;00mkey\u001B[38;5;132;01m}\u001B[39;00m\u001B[38;5;124m: \u001B[39m\u001B[38;5;132;01m{\u001B[39;00mve\u001B[38;5;132;01m}\u001B[39;00m\u001B[38;5;124m\"\u001B[39m) \u001B[38;5;28;01mfrom\u001B[39;00m \u001B[38;5;28;01mNone\u001B[39;00m\n",
      "File \u001B[0;32m~/PycharmProjects/groversAlgorithm/.venv/lib/python3.12/site-packages/matplotlib/rcsetup.py:342\u001B[0m, in \u001B[0;36mvalidate_color\u001B[0;34m(s)\u001B[0m\n\u001B[1;32m    339\u001B[0m         \u001B[38;5;28;01mif\u001B[39;00m is_color_like(stmp):\n\u001B[1;32m    340\u001B[0m             \u001B[38;5;28;01mreturn\u001B[39;00m stmp\n\u001B[0;32m--> 342\u001B[0m \u001B[38;5;28;01mif\u001B[39;00m \u001B[43mis_color_like\u001B[49m\u001B[43m(\u001B[49m\u001B[43ms\u001B[49m\u001B[43m)\u001B[49m:\n\u001B[1;32m    343\u001B[0m     \u001B[38;5;28;01mreturn\u001B[39;00m s\n\u001B[1;32m    345\u001B[0m \u001B[38;5;66;03m# If it is still valid, it must be a tuple (as a string from matplotlibrc).\u001B[39;00m\n",
      "File \u001B[0;32m~/PycharmProjects/groversAlgorithm/.venv/lib/python3.12/site-packages/matplotlib/colors.py:227\u001B[0m, in \u001B[0;36mis_color_like\u001B[0;34m(c)\u001B[0m\n\u001B[1;32m    225\u001B[0m     \u001B[38;5;28;01mreturn\u001B[39;00m \u001B[38;5;28;01mTrue\u001B[39;00m\n\u001B[1;32m    226\u001B[0m \u001B[38;5;28;01mtry\u001B[39;00m:\n\u001B[0;32m--> 227\u001B[0m     \u001B[43mto_rgba\u001B[49m\u001B[43m(\u001B[49m\u001B[43mc\u001B[49m\u001B[43m)\u001B[49m\n\u001B[1;32m    228\u001B[0m \u001B[38;5;28;01mexcept\u001B[39;00m (\u001B[38;5;167;01mTypeError\u001B[39;00m, \u001B[38;5;167;01mValueError\u001B[39;00m):\n\u001B[1;32m    229\u001B[0m     \u001B[38;5;28;01mreturn\u001B[39;00m \u001B[38;5;28;01mFalse\u001B[39;00m\n",
      "File \u001B[0;32m~/PycharmProjects/groversAlgorithm/.venv/lib/python3.12/site-packages/matplotlib/colors.py:314\u001B[0m, in \u001B[0;36mto_rgba\u001B[0;34m(c, alpha)\u001B[0m\n\u001B[1;32m    312\u001B[0m     rgba \u001B[38;5;241m=\u001B[39m \u001B[38;5;28;01mNone\u001B[39;00m\n\u001B[1;32m    313\u001B[0m \u001B[38;5;28;01mif\u001B[39;00m rgba \u001B[38;5;129;01mis\u001B[39;00m \u001B[38;5;28;01mNone\u001B[39;00m:  \u001B[38;5;66;03m# Suppress exception chaining of cache lookup failure.\u001B[39;00m\n\u001B[0;32m--> 314\u001B[0m     rgba \u001B[38;5;241m=\u001B[39m \u001B[43m_to_rgba_no_colorcycle\u001B[49m\u001B[43m(\u001B[49m\u001B[43mc\u001B[49m\u001B[43m,\u001B[49m\u001B[43m \u001B[49m\u001B[43malpha\u001B[49m\u001B[43m)\u001B[49m\n\u001B[1;32m    315\u001B[0m     \u001B[38;5;28;01mtry\u001B[39;00m:\n\u001B[1;32m    316\u001B[0m         _colors_full_map\u001B[38;5;241m.\u001B[39mcache[c, alpha] \u001B[38;5;241m=\u001B[39m rgba\n",
      "File \u001B[0;32m~/PycharmProjects/groversAlgorithm/.venv/lib/python3.12/site-packages/matplotlib/colors.py:336\u001B[0m, in \u001B[0;36m_to_rgba_no_colorcycle\u001B[0;34m(c, alpha)\u001B[0m\n\u001B[1;32m    334\u001B[0m     \u001B[38;5;28;01mraise\u001B[39;00m \u001B[38;5;167;01mValueError\u001B[39;00m(\u001B[38;5;124m\"\u001B[39m\u001B[38;5;124m'\u001B[39m\u001B[38;5;124malpha\u001B[39m\u001B[38;5;124m'\u001B[39m\u001B[38;5;124m must be between 0 and 1, inclusive\u001B[39m\u001B[38;5;124m\"\u001B[39m)\n\u001B[1;32m    335\u001B[0m orig_c \u001B[38;5;241m=\u001B[39m c\n\u001B[0;32m--> 336\u001B[0m \u001B[38;5;28;01mif\u001B[39;00m c \u001B[38;5;129;01mis\u001B[39;00m \u001B[43mnp\u001B[49m\u001B[38;5;241;43m.\u001B[39;49m\u001B[43mma\u001B[49m\u001B[38;5;241m.\u001B[39mmasked:\n\u001B[1;32m    337\u001B[0m     \u001B[38;5;28;01mreturn\u001B[39;00m (\u001B[38;5;241m0.\u001B[39m, \u001B[38;5;241m0.\u001B[39m, \u001B[38;5;241m0.\u001B[39m, \u001B[38;5;241m0.\u001B[39m)\n\u001B[1;32m    338\u001B[0m \u001B[38;5;28;01mif\u001B[39;00m \u001B[38;5;28misinstance\u001B[39m(c, \u001B[38;5;28mstr\u001B[39m):\n",
      "File \u001B[0;32m~/PycharmProjects/groversAlgorithm/.venv/lib/python3.12/site-packages/numpy/__init__.py:343\u001B[0m, in \u001B[0;36m__getattr__\u001B[0;34m(attr)\u001B[0m\n\u001B[1;32m    336\u001B[0m \u001B[38;5;28;01mdef\u001B[39;00m \u001B[38;5;21m__dir__\u001B[39m():\n\u001B[1;32m    337\u001B[0m     public_symbols \u001B[38;5;241m=\u001B[39m \u001B[38;5;28mglobals\u001B[39m()\u001B[38;5;241m.\u001B[39mkeys() \u001B[38;5;241m|\u001B[39m {\u001B[38;5;124m'\u001B[39m\u001B[38;5;124mtesting\u001B[39m\u001B[38;5;124m'\u001B[39m}\n\u001B[1;32m    338\u001B[0m     public_symbols \u001B[38;5;241m-\u001B[39m\u001B[38;5;241m=\u001B[39m {\n\u001B[1;32m    339\u001B[0m         \u001B[38;5;124m\"\u001B[39m\u001B[38;5;124mcore\u001B[39m\u001B[38;5;124m\"\u001B[39m, \u001B[38;5;124m\"\u001B[39m\u001B[38;5;124mmatrixlib\u001B[39m\u001B[38;5;124m\"\u001B[39m,\n\u001B[1;32m    340\u001B[0m         \u001B[38;5;66;03m# These were moved in 1.25 and may be deprecated eventually:\u001B[39;00m\n\u001B[1;32m    341\u001B[0m         \u001B[38;5;124m\"\u001B[39m\u001B[38;5;124mModuleDeprecationWarning\u001B[39m\u001B[38;5;124m\"\u001B[39m, \u001B[38;5;124m\"\u001B[39m\u001B[38;5;124mVisibleDeprecationWarning\u001B[39m\u001B[38;5;124m\"\u001B[39m,\n\u001B[1;32m    342\u001B[0m         \u001B[38;5;124m\"\u001B[39m\u001B[38;5;124mComplexWarning\u001B[39m\u001B[38;5;124m\"\u001B[39m, \u001B[38;5;124m\"\u001B[39m\u001B[38;5;124mTooHardError\u001B[39m\u001B[38;5;124m\"\u001B[39m, \u001B[38;5;124m\"\u001B[39m\u001B[38;5;124mAxisError\u001B[39m\u001B[38;5;124m\"\u001B[39m\n\u001B[0;32m--> 343\u001B[0m     }\n\u001B[1;32m    344\u001B[0m     \u001B[38;5;28;01mreturn\u001B[39;00m \u001B[38;5;28mlist\u001B[39m(public_symbols)\n",
      "File \u001B[0;32m~/PycharmProjects/groversAlgorithm/.venv/lib/python3.12/site-packages/numpy/ma/__init__.py:42\u001B[0m\n\u001B[1;32m      1\u001B[0m \u001B[38;5;124;03m\"\"\"\u001B[39;00m\n\u001B[1;32m      2\u001B[0m \u001B[38;5;124;03m=============\u001B[39;00m\n\u001B[1;32m      3\u001B[0m \u001B[38;5;124;03mMasked Arrays\u001B[39;00m\n\u001B[0;32m   (...)\u001B[0m\n\u001B[1;32m     40\u001B[0m \n\u001B[1;32m     41\u001B[0m \u001B[38;5;124;03m\"\"\"\u001B[39;00m\n\u001B[0;32m---> 42\u001B[0m \u001B[38;5;28;01mfrom\u001B[39;00m \u001B[38;5;21;01m.\u001B[39;00m \u001B[38;5;28;01mimport\u001B[39;00m core\n\u001B[1;32m     43\u001B[0m \u001B[38;5;28;01mfrom\u001B[39;00m \u001B[38;5;21;01m.\u001B[39;00m\u001B[38;5;21;01mcore\u001B[39;00m \u001B[38;5;28;01mimport\u001B[39;00m \u001B[38;5;241m*\u001B[39m\n\u001B[1;32m     45\u001B[0m \u001B[38;5;28;01mfrom\u001B[39;00m \u001B[38;5;21;01m.\u001B[39;00m \u001B[38;5;28;01mimport\u001B[39;00m extras\n",
      "File \u001B[0;32m~/PycharmProjects/groversAlgorithm/.venv/lib/python3.12/site-packages/numpy/ma/core.py:37\u001B[0m\n\u001B[1;32m     35\u001B[0m \u001B[38;5;28;01mfrom\u001B[39;00m \u001B[38;5;21;01mnumpy\u001B[39;00m \u001B[38;5;28;01mimport\u001B[39;00m ndarray, amax, amin, iscomplexobj, bool_, _NoValue\n\u001B[1;32m     36\u001B[0m \u001B[38;5;28;01mfrom\u001B[39;00m \u001B[38;5;21;01mnumpy\u001B[39;00m \u001B[38;5;28;01mimport\u001B[39;00m array \u001B[38;5;28;01mas\u001B[39;00m narray\n\u001B[0;32m---> 37\u001B[0m \u001B[38;5;28;01mfrom\u001B[39;00m \u001B[38;5;21;01mnumpy\u001B[39;00m\u001B[38;5;21;01m.\u001B[39;00m\u001B[38;5;21;01mlib\u001B[39;00m\u001B[38;5;21;01m.\u001B[39;00m\u001B[38;5;21;01mfunction_base\u001B[39;00m \u001B[38;5;28;01mimport\u001B[39;00m angle\n\u001B[1;32m     38\u001B[0m \u001B[38;5;28;01mfrom\u001B[39;00m \u001B[38;5;21;01mnumpy\u001B[39;00m\u001B[38;5;21;01m.\u001B[39;00m\u001B[38;5;21;01mcompat\u001B[39;00m \u001B[38;5;28;01mimport\u001B[39;00m (\n\u001B[1;32m     39\u001B[0m     getargspec, formatargspec, long, unicode, \u001B[38;5;28mbytes\u001B[39m\n\u001B[1;32m     40\u001B[0m     )\n\u001B[1;32m     41\u001B[0m \u001B[38;5;28;01mfrom\u001B[39;00m \u001B[38;5;21;01mnumpy\u001B[39;00m \u001B[38;5;28;01mimport\u001B[39;00m expand_dims\n",
      "File \u001B[0;32m~/PycharmProjects/groversAlgorithm/.venv/lib/python3.12/site-packages/numpy/lib/function_base.py:25\u001B[0m\n\u001B[1;32m     23\u001B[0m \u001B[38;5;28;01mfrom\u001B[39;00m \u001B[38;5;21;01mnumpy\u001B[39;00m\u001B[38;5;21;01m.\u001B[39;00m\u001B[38;5;21;01mcore\u001B[39;00m \u001B[38;5;28;01mimport\u001B[39;00m overrides\n\u001B[1;32m     24\u001B[0m \u001B[38;5;28;01mfrom\u001B[39;00m \u001B[38;5;21;01mnumpy\u001B[39;00m\u001B[38;5;21;01m.\u001B[39;00m\u001B[38;5;21;01mcore\u001B[39;00m\u001B[38;5;21;01m.\u001B[39;00m\u001B[38;5;21;01mfunction_base\u001B[39;00m \u001B[38;5;28;01mimport\u001B[39;00m add_newdoc\n\u001B[0;32m---> 25\u001B[0m \u001B[38;5;28;01mfrom\u001B[39;00m \u001B[38;5;21;01mnumpy\u001B[39;00m\u001B[38;5;21;01m.\u001B[39;00m\u001B[38;5;21;01mlib\u001B[39;00m\u001B[38;5;21;01m.\u001B[39;00m\u001B[38;5;21;01mtwodim_base\u001B[39;00m \u001B[38;5;28;01mimport\u001B[39;00m diag\n\u001B[1;32m     26\u001B[0m \u001B[38;5;28;01mfrom\u001B[39;00m \u001B[38;5;21;01mnumpy\u001B[39;00m\u001B[38;5;21;01m.\u001B[39;00m\u001B[38;5;21;01mcore\u001B[39;00m\u001B[38;5;21;01m.\u001B[39;00m\u001B[38;5;21;01mmultiarray\u001B[39;00m \u001B[38;5;28;01mimport\u001B[39;00m (\n\u001B[1;32m     27\u001B[0m     _place, add_docstring, bincount, normalize_axis_index, _monotonicity,\n\u001B[1;32m     28\u001B[0m     interp \u001B[38;5;28;01mas\u001B[39;00m compiled_interp, interp_complex \u001B[38;5;28;01mas\u001B[39;00m compiled_interp_complex\n\u001B[1;32m     29\u001B[0m     )\n\u001B[1;32m     30\u001B[0m \u001B[38;5;28;01mfrom\u001B[39;00m \u001B[38;5;21;01mnumpy\u001B[39;00m\u001B[38;5;21;01m.\u001B[39;00m\u001B[38;5;21;01mcore\u001B[39;00m\u001B[38;5;21;01m.\u001B[39;00m\u001B[38;5;21;01mumath\u001B[39;00m \u001B[38;5;28;01mimport\u001B[39;00m _add_newdoc_ufunc \u001B[38;5;28;01mas\u001B[39;00m add_newdoc_ufunc\n",
      "File \u001B[0;32m~/PycharmProjects/groversAlgorithm/.venv/lib/python3.12/site-packages/numpy/lib/twodim_base.py:15\u001B[0m\n\u001B[1;32m     13\u001B[0m \u001B[38;5;28;01mfrom\u001B[39;00m \u001B[38;5;21;01mnumpy\u001B[39;00m\u001B[38;5;21;01m.\u001B[39;00m\u001B[38;5;21;01mcore\u001B[39;00m \u001B[38;5;28;01mimport\u001B[39;00m overrides\n\u001B[1;32m     14\u001B[0m \u001B[38;5;28;01mfrom\u001B[39;00m \u001B[38;5;21;01mnumpy\u001B[39;00m\u001B[38;5;21;01m.\u001B[39;00m\u001B[38;5;21;01mcore\u001B[39;00m \u001B[38;5;28;01mimport\u001B[39;00m iinfo\n\u001B[0;32m---> 15\u001B[0m \u001B[38;5;28;01mfrom\u001B[39;00m \u001B[38;5;21;01mnumpy\u001B[39;00m\u001B[38;5;21;01m.\u001B[39;00m\u001B[38;5;21;01mlib\u001B[39;00m\u001B[38;5;21;01m.\u001B[39;00m\u001B[38;5;21;01mstride_tricks\u001B[39;00m \u001B[38;5;28;01mimport\u001B[39;00m broadcast_to\n\u001B[1;32m     18\u001B[0m __all__ \u001B[38;5;241m=\u001B[39m [\n\u001B[1;32m     19\u001B[0m     \u001B[38;5;124m'\u001B[39m\u001B[38;5;124mdiag\u001B[39m\u001B[38;5;124m'\u001B[39m, \u001B[38;5;124m'\u001B[39m\u001B[38;5;124mdiagflat\u001B[39m\u001B[38;5;124m'\u001B[39m, \u001B[38;5;124m'\u001B[39m\u001B[38;5;124meye\u001B[39m\u001B[38;5;124m'\u001B[39m, \u001B[38;5;124m'\u001B[39m\u001B[38;5;124mfliplr\u001B[39m\u001B[38;5;124m'\u001B[39m, \u001B[38;5;124m'\u001B[39m\u001B[38;5;124mflipud\u001B[39m\u001B[38;5;124m'\u001B[39m, \u001B[38;5;124m'\u001B[39m\u001B[38;5;124mtri\u001B[39m\u001B[38;5;124m'\u001B[39m, \u001B[38;5;124m'\u001B[39m\u001B[38;5;124mtriu\u001B[39m\u001B[38;5;124m'\u001B[39m,\n\u001B[1;32m     20\u001B[0m     \u001B[38;5;124m'\u001B[39m\u001B[38;5;124mtril\u001B[39m\u001B[38;5;124m'\u001B[39m, \u001B[38;5;124m'\u001B[39m\u001B[38;5;124mvander\u001B[39m\u001B[38;5;124m'\u001B[39m, \u001B[38;5;124m'\u001B[39m\u001B[38;5;124mhistogram2d\u001B[39m\u001B[38;5;124m'\u001B[39m, \u001B[38;5;124m'\u001B[39m\u001B[38;5;124mmask_indices\u001B[39m\u001B[38;5;124m'\u001B[39m, \u001B[38;5;124m'\u001B[39m\u001B[38;5;124mtril_indices\u001B[39m\u001B[38;5;124m'\u001B[39m,\n\u001B[1;32m     21\u001B[0m     \u001B[38;5;124m'\u001B[39m\u001B[38;5;124mtril_indices_from\u001B[39m\u001B[38;5;124m'\u001B[39m, \u001B[38;5;124m'\u001B[39m\u001B[38;5;124mtriu_indices\u001B[39m\u001B[38;5;124m'\u001B[39m, \u001B[38;5;124m'\u001B[39m\u001B[38;5;124mtriu_indices_from\u001B[39m\u001B[38;5;124m'\u001B[39m, ]\n\u001B[1;32m     24\u001B[0m array_function_dispatch \u001B[38;5;241m=\u001B[39m functools\u001B[38;5;241m.\u001B[39mpartial(\n\u001B[1;32m     25\u001B[0m     overrides\u001B[38;5;241m.\u001B[39marray_function_dispatch, module\u001B[38;5;241m=\u001B[39m\u001B[38;5;124m'\u001B[39m\u001B[38;5;124mnumpy\u001B[39m\u001B[38;5;124m'\u001B[39m)\n",
      "\u001B[0;31mImportError\u001B[0m: cannot import name 'broadcast_to' from 'numpy.lib.stride_tricks' (/Users/laratatli/PycharmProjects/groversAlgorithm/.venv/lib/python3.12/site-packages/numpy/lib/stride_tricks.py)"
     ]
    }
   ],
   "execution_count": 44
  }
 ],
 "metadata": {
  "kernelspec": {
   "display_name": "Python 3 (ipykernel)",
   "language": "python",
   "name": "python3"
  },
  "language_info": {
   "codemirror_mode": {
    "name": "ipython",
    "version": 3
   },
   "file_extension": ".py",
   "mimetype": "text/x-python",
   "name": "python",
   "nbconvert_exporter": "python",
   "pygments_lexer": "ipython3",
   "version": "3.9.12"
  },
  "widgets": {
   "application/vnd.jupyter.widget-state+json": {
    "state": {
     "07d1cc7e726147dc9dc6a4dc770e7dbd": {
      "model_module": "@jupyter-widgets/controls",
      "model_module_version": "2.0.0",
      "model_name": "GridBoxModel",
      "state": {
       "children": [
        "IPY_MODEL_db6e45cb30164f57b5420904daee41e0"
       ],
       "layout": "IPY_MODEL_829eb73692a844eaae04340390fbd717"
      }
     },
     "0f402328e3074e1aa2eba01e170b5997": {
      "model_module": "@jupyter-widgets/controls",
      "model_module_version": "2.0.0",
      "model_name": "HTMLStyleModel",
      "state": {
       "description_width": "",
       "font_size": null,
       "text_color": null
      }
     },
     "23ba8df11731409c95bc1c9cc7d8e300": {
      "model_module": "@jupyter-widgets/controls",
      "model_module_version": "2.0.0",
      "model_name": "HTMLStyleModel",
      "state": {
       "description_width": "",
       "font_size": null,
       "text_color": null
      }
     },
     "2889aaf8c039444cbda066e1d0cf1e76": {
      "model_module": "@jupyter-widgets/base",
      "model_module_version": "2.0.0",
      "model_name": "LayoutModel",
      "state": {
       "grid_area": "right",
       "padding": "0px 0px 0px 0px",
       "width": "70px"
      }
     },
     "36c95ad3b7894c229a994f3c79b27941": {
      "model_module": "@jupyter-widgets/base",
      "model_module_version": "2.0.0",
      "model_name": "LayoutModel",
      "state": {}
     },
     "3e0dadca6e464a029d01a15b77b50fe7": {
      "model_module": "@jupyter-widgets/controls",
      "model_module_version": "2.0.0",
      "model_name": "HTMLModel",
      "state": {
       "layout": "IPY_MODEL_da0e5208ddfd4fef953004bc511eabb1",
       "style": "IPY_MODEL_0f402328e3074e1aa2eba01e170b5997",
       "value": "<h5>Backend</h5>"
      }
     },
     "48be2b42fc834dd5b8d8457d872dd3d4": {
      "model_module": "@jupyter-widgets/controls",
      "model_module_version": "2.0.0",
      "model_name": "HTMLStyleModel",
      "state": {
       "description_width": "",
       "font_size": null,
       "text_color": null
      }
     },
     "494ee679c09b47dcb599a3af665e6924": {
      "model_module": "@jupyter-widgets/base",
      "model_module_version": "2.0.0",
      "model_name": "LayoutModel",
      "state": {
       "width": "95px"
      }
     },
     "517e99838885428b828a2dd189dfa11f": {
      "model_module": "@jupyter-widgets/base",
      "model_module_version": "2.0.0",
      "model_name": "LayoutModel",
      "state": {
       "margin": "0px 0px 0px 37px",
       "width": "600px"
      }
     },
     "5ce995f5886f4734b0eaf2b7d3332f21": {
      "model_module": "@jupyter-widgets/controls",
      "model_module_version": "2.0.0",
      "model_name": "HTMLStyleModel",
      "state": {
       "description_width": "",
       "font_size": null,
       "text_color": null
      }
     },
     "674e681e85824169a6d00b445803aec8": {
      "model_module": "@jupyter-widgets/controls",
      "model_module_version": "2.0.0",
      "model_name": "ButtonStyleModel",
      "state": {
       "font_family": null,
       "font_size": null,
       "font_style": null,
       "font_variant": null,
       "font_weight": null,
       "text_color": null,
       "text_decoration": null
      }
     },
     "67d1b2d8d71e411e82179d5c13ec53a5": {
      "model_module": "@jupyter-widgets/controls",
      "model_module_version": "2.0.0",
      "model_name": "HTMLStyleModel",
      "state": {
       "description_width": "",
       "font_size": null,
       "text_color": null
      }
     },
     "775741faa76543acba70cf138152e699": {
      "model_module": "@jupyter-widgets/base",
      "model_module_version": "2.0.0",
      "model_name": "LayoutModel",
      "state": {
       "margin": "0px 0px 10px 0px"
      }
     },
     "829eb73692a844eaae04340390fbd717": {
      "model_module": "@jupyter-widgets/base",
      "model_module_version": "2.0.0",
      "model_name": "LayoutModel",
      "state": {
       "grid_template_areas": "\n                                       \". . . . right \"\n                                        ",
       "grid_template_columns": "20% 20% 20% 20% 20%",
       "width": "100%"
      }
     },
     "9d71da35b73b498f8c22c5117e7f385e": {
      "model_module": "@jupyter-widgets/controls",
      "model_module_version": "2.0.0",
      "model_name": "HTMLStyleModel",
      "state": {
       "description_width": "",
       "font_size": null,
       "text_color": null
      }
     },
     "a01cee0b57e14a2692426a17ce54fb13": {
      "model_module": "@jupyter-widgets/base",
      "model_module_version": "2.0.0",
      "model_name": "LayoutModel",
      "state": {
       "width": "70px"
      }
     },
     "a09928c4fe1b4fc1b034d7436362ba35": {
      "model_module": "@jupyter-widgets/controls",
      "model_module_version": "2.0.0",
      "model_name": "HTMLModel",
      "state": {
       "layout": "IPY_MODEL_775741faa76543acba70cf138152e699",
       "style": "IPY_MODEL_67d1b2d8d71e411e82179d5c13ec53a5",
       "value": "<p style='font-family: IBM Plex Sans, Arial, Helvetica, sans-serif; font-size: 20px; font-weight: medium;'>Circuit Properties</p>"
      }
     },
     "a62883c59e834a9191be03882bc691a4": {
      "model_module": "@jupyter-widgets/controls",
      "model_module_version": "2.0.0",
      "model_name": "HTMLModel",
      "state": {
       "layout": "IPY_MODEL_36c95ad3b7894c229a994f3c79b27941",
       "style": "IPY_MODEL_9d71da35b73b498f8c22c5117e7f385e",
       "value": "<h5>Message</h5>"
      }
     },
     "b8a67abc37f94d4cb9b003854000cb9f": {
      "model_module": "@jupyter-widgets/base",
      "model_module_version": "2.0.0",
      "model_name": "LayoutModel",
      "state": {
       "width": "190px"
      }
     },
     "d6e4292741e24b3789fa3cdf6a04ebeb": {
      "model_module": "@jupyter-widgets/controls",
      "model_module_version": "2.0.0",
      "model_name": "HBoxModel",
      "state": {
       "children": [
        "IPY_MODEL_f231a1d7a2a84aea877ff853c9f15bda",
        "IPY_MODEL_3e0dadca6e464a029d01a15b77b50fe7",
        "IPY_MODEL_f41f9e73d1d64cdf979b2666742b9b5f",
        "IPY_MODEL_e68a7300cd554d2f8b375faf78e353b2",
        "IPY_MODEL_a62883c59e834a9191be03882bc691a4"
       ],
       "layout": "IPY_MODEL_517e99838885428b828a2dd189dfa11f"
      }
     },
     "da0e5208ddfd4fef953004bc511eabb1": {
      "model_module": "@jupyter-widgets/base",
      "model_module_version": "2.0.0",
      "model_name": "LayoutModel",
      "state": {
       "width": "145px"
      }
     },
     "db6e45cb30164f57b5420904daee41e0": {
      "model_module": "@jupyter-widgets/controls",
      "model_module_version": "2.0.0",
      "model_name": "ButtonModel",
      "state": {
       "button_style": "primary",
       "description": "Clear",
       "layout": "IPY_MODEL_2889aaf8c039444cbda066e1d0cf1e76",
       "style": "IPY_MODEL_674e681e85824169a6d00b445803aec8",
       "tooltip": null
      }
     },
     "e68a7300cd554d2f8b375faf78e353b2": {
      "model_module": "@jupyter-widgets/controls",
      "model_module_version": "2.0.0",
      "model_name": "HTMLModel",
      "state": {
       "layout": "IPY_MODEL_a01cee0b57e14a2692426a17ce54fb13",
       "style": "IPY_MODEL_5ce995f5886f4734b0eaf2b7d3332f21",
       "value": "<h5>Queue</h5>"
      }
     },
     "f231a1d7a2a84aea877ff853c9f15bda": {
      "model_module": "@jupyter-widgets/controls",
      "model_module_version": "2.0.0",
      "model_name": "HTMLModel",
      "state": {
       "layout": "IPY_MODEL_b8a67abc37f94d4cb9b003854000cb9f",
       "style": "IPY_MODEL_48be2b42fc834dd5b8d8457d872dd3d4",
       "value": "<h5>Job ID</h5>"
      }
     },
     "f41f9e73d1d64cdf979b2666742b9b5f": {
      "model_module": "@jupyter-widgets/controls",
      "model_module_version": "2.0.0",
      "model_name": "HTMLModel",
      "state": {
       "layout": "IPY_MODEL_494ee679c09b47dcb599a3af665e6924",
       "style": "IPY_MODEL_23ba8df11731409c95bc1c9cc7d8e300",
       "value": "<h5>Status</h5>"
      }
     }
    },
    "version_major": 2,
    "version_minor": 0
   }
  }
 },
 "nbformat": 4,
 "nbformat_minor": 5
}
